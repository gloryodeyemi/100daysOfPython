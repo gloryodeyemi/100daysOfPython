{
 "cells": [
  {
   "cell_type": "markdown",
   "id": "871b483d",
   "metadata": {},
   "source": [
    "## Challenge: Average Height\n",
    "\n",
    "### Instructions\n",
    "You are going to write a program that calculates the average student height from a List of heights.\n",
    "\n",
    "e.g. ```student_heights = [180, 124, 165, 173, 189, 169, 146]```\n",
    "\n",
    "The average height can be calculated by adding all the heights together and dividing by the total number of heights.\n",
    "\n",
    "e.g.\n",
    "\n",
    "180 + 124 + 165 + 173 + 189 + 169 + 146 = 1146\n",
    "\n",
    "There are a total of **7** heights in ```student_heights```\n",
    "\n",
    "1146 ÷ 7 = **163.71428571428572**\n",
    "\n",
    "Average height rounded to the nearest whole number = **164**\n",
    "\n",
    "**Important:** You should not use the ```sum()``` or ```len()``` functions in your answer. You should try to replicate their functionality using what you have learnt about for loops.\n",
    "\n",
    "### Example Input\n",
    "\n",
    "```156 178 165 171 187```\n",
    "\n",
    "In this case, student_heights would be a list that looks like: [156, 178, 165, 171, 187]\n",
    "\n",
    "### Example Output\n",
    "\n",
    "```171```"
   ]
  },
  {
   "cell_type": "code",
   "execution_count": 1,
   "id": "f1afc9e3",
   "metadata": {},
   "outputs": [
    {
     "name": "stdout",
     "output_type": "stream",
     "text": [
      "Input a list of student heights 156 178 165 171 187\n",
      "171\n"
     ]
    }
   ],
   "source": [
    "# 🚨 Don't change the code below 👇\n",
    "student_heights = input(\"Input a list of student heights \").split()\n",
    "for n in range(0, len(student_heights)):\n",
    "    student_heights[n] = int(student_heights[n])\n",
    "# 🚨 Don't change the code above 👆\n",
    "\n",
    "#Write your code below this row 👇\n",
    "\n",
    "heights_sum = 0\n",
    "heights_length = 0\n",
    "\n",
    "for height in student_heights:\n",
    "    heights_length += 1\n",
    "    heights_sum += height\n",
    "\n",
    "average_height = round(heights_sum / heights_length)\n",
    "\n",
    "print(average_height)"
   ]
  }
 ],
 "metadata": {
  "kernelspec": {
   "display_name": "Python 3 (ipykernel)",
   "language": "python",
   "name": "python3"
  },
  "language_info": {
   "codemirror_mode": {
    "name": "ipython",
    "version": 3
   },
   "file_extension": ".py",
   "mimetype": "text/x-python",
   "name": "python",
   "nbconvert_exporter": "python",
   "pygments_lexer": "ipython3",
   "version": "3.9.13"
  }
 },
 "nbformat": 4,
 "nbformat_minor": 5
}
