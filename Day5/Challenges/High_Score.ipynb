{
 "cells": [
  {
   "cell_type": "markdown",
   "id": "871b483d",
   "metadata": {},
   "source": [
    "## Challenge: High Score\n",
    "\n",
    "### Instructions\n",
    "You are going to write a program that calculates the highest score from a List of scores.\n",
    "\n",
    "e.g. ```student_scores = [78, 65, 89, 86, 55, 91, 64, 89]```\n",
    "\n",
    "Important you are not allowed to use the max or min functions. The output words must match the example. i.e\n",
    "\n",
    "   ```The highest score in the class is: x```\n",
    "\n",
    "### Example Input\n",
    "\n",
    "```78 65 89 86 55 91 64 89```\n",
    "\n",
    "In this case, student_scores would be a list that looks like: ```[78, 65, 89, 86, 55, 91, 64, 89]```\n",
    "\n",
    "### Example Output\n",
    "\n",
    "```The highest score in the class is: 91```"
   ]
  },
  {
   "cell_type": "code",
   "execution_count": 1,
   "id": "f1afc9e3",
   "metadata": {},
   "outputs": [
    {
     "name": "stdout",
     "output_type": "stream",
     "text": [
      "Input a list of student scores 78 65 89 86 55 91 64 89\n",
      "[78, 65, 89, 86, 55, 91, 64, 89]\n",
      "The highest score in the class is: 91\n"
     ]
    }
   ],
   "source": [
    "# 🚨 Don't change the code below 👇\n",
    "student_scores = input(\"Input a list of student scores \").split()\n",
    "for n in range(0, len(student_scores)):\n",
    "  student_scores[n] = int(student_scores[n])\n",
    "print(student_scores)\n",
    "# 🚨 Don't change the code above 👆\n",
    "\n",
    "#Write your code below this row 👇\n",
    "\n",
    "max_score = 0\n",
    "\n",
    "for score in student_scores:\n",
    "    if score > max_score:\n",
    "        max_score = score\n",
    "\n",
    "print(f\"The highest score in the class is: {max_score}\")"
   ]
  }
 ],
 "metadata": {
  "kernelspec": {
   "display_name": "Python 3 (ipykernel)",
   "language": "python",
   "name": "python3"
  },
  "language_info": {
   "codemirror_mode": {
    "name": "ipython",
    "version": 3
   },
   "file_extension": ".py",
   "mimetype": "text/x-python",
   "name": "python",
   "nbconvert_exporter": "python",
   "pygments_lexer": "ipython3",
   "version": "3.9.13"
  }
 },
 "nbformat": 4,
 "nbformat_minor": 5
}
