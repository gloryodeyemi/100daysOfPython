{
 "cells": [
  {
   "cell_type": "markdown",
   "id": "1144c332",
   "metadata": {},
   "source": [
    "## Day 5 Project - Password Generator"
   ]
  },
  {
   "cell_type": "code",
   "execution_count": 2,
   "id": "3e730c97",
   "metadata": {},
   "outputs": [
    {
     "name": "stdout",
     "output_type": "stream",
     "text": [
      "Welcome to the PyPassword Generator!\n",
      "How many letters would you like in your password?\n",
      "8\n",
      "How many symbols would you like?\n",
      "3\n",
      "How many numbers would you like?\n",
      "2\n",
      "**********\n",
      "Easy Level\n",
      "**********\n",
      "Your generated password is: lEJcRpwr*!+74\n",
      "\n",
      "**********\n",
      "Hard Level\n",
      "**********\n",
      "Your generated password is: l!wcJr+*7Ep4R\n"
     ]
    }
   ],
   "source": [
    "#Password Generator Project\n",
    "import random\n",
    "letters = ['a', 'b', 'c', 'd', 'e', 'f', 'g', 'h', 'i', 'j', 'k', 'l', 'm', 'n', 'o', 'p', 'q', 'r', 's', 't', 'u', 'v', 'w', 'x', 'y', 'z', 'A', 'B', 'C', 'D', 'E', 'F', 'G', 'H', 'I', 'J', 'K', 'L', 'M', 'N', 'O', 'P', 'Q', 'R', 'S', 'T', 'U', 'V', 'W', 'X', 'Y', 'Z']\n",
    "numbers = ['0', '1', '2', '3', '4', '5', '6', '7', '8', '9']\n",
    "symbols = ['!', '#', '$', '%', '&', '(', ')', '*', '+']\n",
    "\n",
    "print(\"Welcome to the PyPassword Generator!\")\n",
    "nr_letters= int(input(\"How many letters would you like in your password?\\n\")) \n",
    "nr_symbols = int(input(f\"How many symbols would you like?\\n\"))\n",
    "nr_numbers = int(input(f\"How many numbers would you like?\\n\"))\n",
    "\n",
    "#Eazy Level - Order not randomised:\n",
    "#e.g. 4 letter, 2 symbol, 2 number = JduE&!91\n",
    "level = \"Easy Level\"\n",
    "print(\"*\"*len(level))\n",
    "print(\"Easy Level\")\n",
    "print(\"*\"*len(level))\n",
    "\n",
    "easy_password = \"\"\n",
    "for letter in random.choices(letters, k=nr_letters):\n",
    "    easy_password += letter\n",
    "\n",
    "for symbol in random.choices(symbols, k=nr_symbols):\n",
    "    easy_password += symbol \n",
    "\n",
    "for number in random.choices(numbers, k=nr_numbers):\n",
    "    easy_password += number\n",
    "\n",
    "print(f\"Your generated password is: {easy_password}\")\n",
    "print()\n",
    "\n",
    "#Hard Level - Order of characters randomised:\n",
    "#e.g. 4 letter, 2 symbol, 2 number = g^2jk8&P\n",
    "level = \"Hard Level\"\n",
    "print(\"*\"*len(level))\n",
    "print(\"Hard Level\")\n",
    "print(\"*\"*len(level))\n",
    "\n",
    "hard_password = ''.join(random.sample(easy_password,len(easy_password)))\n",
    "print(f\"Your generated password is: {hard_password}\")"
   ]
  }
 ],
 "metadata": {
  "kernelspec": {
   "display_name": "Python 3 (ipykernel)",
   "language": "python",
   "name": "python3"
  },
  "language_info": {
   "codemirror_mode": {
    "name": "ipython",
    "version": 3
   },
   "file_extension": ".py",
   "mimetype": "text/x-python",
   "name": "python",
   "nbconvert_exporter": "python",
   "pygments_lexer": "ipython3",
   "version": "3.9.13"
  }
 },
 "nbformat": 4,
 "nbformat_minor": 5
}
