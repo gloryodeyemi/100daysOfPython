{
 "cells": [
  {
   "cell_type": "markdown",
   "id": "e2a6369b",
   "metadata": {},
   "source": [
    "## Challenge - The Hurdles Loop\n",
    "\n",
    "[Find here](https://reeborg.ca/reeborg.html?lang=en&mode=python&menu=worlds%2Fmenus%2Freeborg_intro_en.json&name=Hurdle%201&url=worlds%2Ftutorial_en%2Fhurdle1.json)"
   ]
  },
  {
   "cell_type": "code",
   "execution_count": null,
   "id": "647c599f",
   "metadata": {},
   "outputs": [],
   "source": [
    "def turn_right():\n",
    "    turn_left()\n",
    "    turn_left()\n",
    "    turn_left()\n",
    "    \n",
    "def jump():\n",
    "    turn_left()\n",
    "    move()\n",
    "    turn_right()\n",
    "    move()\n",
    "    turn_right()\n",
    "    move()\n",
    "    \n",
    "move()\n",
    "jump()\n",
    "turn_left()\n",
    "move()\n",
    "jump()\n",
    "turn_left()\n",
    "move()\n",
    "jump()\n",
    "turn_left()\n",
    "move()\n",
    "jump()\n",
    "turn_left()\n",
    "move()\n",
    "jump()\n",
    "turn_left()\n",
    "move()\n",
    "jump()"
   ]
  }
 ],
 "metadata": {
  "kernelspec": {
   "display_name": "Python 3 (ipykernel)",
   "language": "python",
   "name": "python3"
  },
  "language_info": {
   "codemirror_mode": {
    "name": "ipython",
    "version": 3
   },
   "file_extension": ".py",
   "mimetype": "text/x-python",
   "name": "python",
   "nbconvert_exporter": "python",
   "pygments_lexer": "ipython3",
   "version": "3.9.13"
  }
 },
 "nbformat": 4,
 "nbformat_minor": 5
}
