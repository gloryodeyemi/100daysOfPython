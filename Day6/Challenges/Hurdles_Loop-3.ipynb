{
 "cells": [
  {
   "cell_type": "markdown",
   "id": "5c8b78f9",
   "metadata": {},
   "source": [
    "## Challenge - The Hurdles Loop 3\n",
    "\n",
    "[Find here](https://reeborg.ca/reeborg.html?lang=en&mode=python&menu=worlds%2Fmenus%2Freeborg_intro_en.json&name=Hurdle%203&url=worlds%2Ftutorial_en%2Fhurdle3.json)"
   ]
  },
  {
   "cell_type": "code",
   "execution_count": null,
   "id": "e5b5fa94",
   "metadata": {},
   "outputs": [],
   "source": [
    "def turn_right():\n",
    "    turn_left()\n",
    "    turn_left()\n",
    "    turn_left()\n",
    "    \n",
    "def jump():\n",
    "    turn_left()\n",
    "    move()\n",
    "    turn_right()\n",
    "    move()\n",
    "    turn_right()\n",
    "    move()\n",
    "    turn_left()\n",
    "   \n",
    "while not at_goal():\n",
    "    if front_is_clear():\n",
    "        move()\n",
    "    if wall_in_front():\n",
    "        jump()"
   ]
  },
  {
   "cell_type": "code",
   "execution_count": null,
   "id": "769f828c",
   "metadata": {},
   "outputs": [],
   "source": [
    "while not at_goal():\n",
    "    if front_is_clear():\n",
    "        move()       \n",
    "    else:\n",
    "        jump()"
   ]
  }
 ],
 "metadata": {
  "kernelspec": {
   "display_name": "Python 3 (ipykernel)",
   "language": "python",
   "name": "python3"
  },
  "language_info": {
   "codemirror_mode": {
    "name": "ipython",
    "version": 3
   },
   "file_extension": ".py",
   "mimetype": "text/x-python",
   "name": "python",
   "nbconvert_exporter": "python",
   "pygments_lexer": "ipython3",
   "version": "3.9.13"
  }
 },
 "nbformat": 4,
 "nbformat_minor": 5
}
