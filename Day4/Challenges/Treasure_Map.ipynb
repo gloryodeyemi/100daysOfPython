{
 "cells": [
  {
   "cell_type": "markdown",
   "id": "456fb4ed",
   "metadata": {},
   "source": [
    "## Challenge: Treasure Map\n",
    "\n",
    "### Instructions\n",
    "You are going to write a program that will mark a spot with an ```X```.\n",
    "\n",
    "In the starting code, you will find a variable called ```map```.\n",
    "\n",
    "This ```map``` contains a nested list. When ```map``` is printed this is what the nested list looks like:\n",
    "\n",
    "[['⬜️', '⬜️', '⬜️'],['⬜️', '⬜️', '⬜️'],['⬜️', '⬜️', '⬜️']]\n",
    "\n",
    "This is a bit hard to work with. So on lines 6 and 23, we've used this line of code ```print(f\"{row1}\\n{row2}\\n{row3}\"``` to format the 3 lists to be printed as a 3 by 3 square, each on a new line. \n",
    "\n",
    "['⬜️', '⬜️', '⬜️']\n",
    "\n",
    "['⬜️', '⬜️', '⬜️']\n",
    "\n",
    "['⬜️', '⬜️', '⬜️']\n",
    "\n",
    "Now it looks a bit more like the coordinates of a real map.\n",
    "\n",
    "Your job is to write a program that allows you to mark a square on the map using a two-digit system. \n",
    "\n",
    "The **first digit** in the input will specify the **column** (the position on the horizontal axis).\n",
    "\n",
    "The **second digit** in the input will specify the **row** number (the position on the vertical axis). \n",
    "\n",
    "First, your program must take the user input and convert it to a usable format.\n",
    "\n",
    "Next, you need to use that input to update your nested list with an \"x\". Remember that your nested list ```map``` actually looks like this: [['⬜️', '⬜️', '⬜️'],['⬜️', '⬜️', '⬜️'],['⬜️', '⬜️', '⬜️']].\n",
    "\n",
    "### Example Input 1\n",
    "\n",
    "column 2, row 3 would be entered as:\n",
    "\n",
    "```23```\n",
    "\n",
    "### Example Output 1\n",
    "\n",
    "```['⬜️', '⬜️', '⬜️']\n",
    "['⬜️', '⬜️', '⬜️']\n",
    "['⬜️', 'X', '⬜️']```\n",
    "\n",
    "### Example Input 2\n",
    "\n",
    "column 3, row 1 would be entered as:\n",
    "\n",
    "```31```\n",
    "\n",
    "### Example Output 2\n",
    "\n",
    "```['⬜️', '⬜️', 'X']\n",
    "['⬜️', '⬜️', '⬜️']\n",
    "['⬜️', '⬜️', '⬜️']```"
   ]
  },
  {
   "cell_type": "code",
   "execution_count": 1,
   "id": "50084e79",
   "metadata": {},
   "outputs": [
    {
     "name": "stdout",
     "output_type": "stream",
     "text": [
      "['⬜️', '️⬜️', '️⬜️']\n",
      "['⬜️', '⬜️', '️⬜️']\n",
      "['⬜️️', '⬜️️', '⬜️️']\n",
      "Where do you want to put the treasure? 23\n",
      "['⬜️', '️⬜️', '️⬜️']\n",
      "['⬜️', '⬜️', '️⬜️']\n",
      "['⬜️️', 'X', '⬜️️']\n"
     ]
    }
   ],
   "source": [
    "# 🚨 Don't change the code below 👇\n",
    "row1 = [\"⬜️\",\"️⬜️\",\"️⬜️\"]\n",
    "row2 = [\"⬜️\",\"⬜️\",\"️⬜️\"]\n",
    "row3 = [\"⬜️️\",\"⬜️️\",\"⬜️️\"]\n",
    "map = [row1, row2, row3]\n",
    "print(f\"{row1}\\n{row2}\\n{row3}\")\n",
    "position = input(\"Where do you want to put the treasure? \")\n",
    "# 🚨 Don't change the code above 👆\n",
    "\n",
    "#Write your code below this row 👇\n",
    "col = int(position[0])\n",
    "row = int(position[1])\n",
    "\n",
    "map[row-1][col-1] = 'X'\n",
    "\n",
    "#Write your code above this row 👆\n",
    "\n",
    "# 🚨 Don't change the code below 👇\n",
    "print(f\"{row1}\\n{row2}\\n{row3}\")"
   ]
  }
 ],
 "metadata": {
  "kernelspec": {
   "display_name": "Python 3 (ipykernel)",
   "language": "python",
   "name": "python3"
  },
  "language_info": {
   "codemirror_mode": {
    "name": "ipython",
    "version": 3
   },
   "file_extension": ".py",
   "mimetype": "text/x-python",
   "name": "python",
   "nbconvert_exporter": "python",
   "pygments_lexer": "ipython3",
   "version": "3.9.13"
  }
 },
 "nbformat": 4,
 "nbformat_minor": 5
}
