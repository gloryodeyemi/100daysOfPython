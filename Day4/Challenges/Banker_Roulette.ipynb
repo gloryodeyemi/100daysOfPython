{
 "cells": [
  {
   "cell_type": "markdown",
   "id": "456fb4ed",
   "metadata": {},
   "source": [
    "## Challenge: Banker Roulette\n",
    "\n",
    "### Instructions\n",
    "You are going to write a program that will select a random name from a list of names. The person selected will have to pay for everybody's food bill.\n",
    "\n",
    "**Important:** You are not allowed to use the ```choice()``` function.\n",
    "\n",
    "**Line 8** splits the string ```names_string``` into individual names and puts them inside a **List** called ```names```. For this to work, you must enter all the names as names followed by comma then space. e.g. name, name, name\n",
    "\n",
    "### Example Input\n",
    "\n",
    "```Angela, Ben, Jenny, Michael, Chloe```\n",
    "\n",
    "**Note:** notice that there is a space between the comma and the next name.\n",
    "\n",
    "### Example Output\n",
    "\n",
    "```Michael is going to buy the meal today!```"
   ]
  },
  {
   "cell_type": "code",
   "execution_count": 1,
   "id": "50084e79",
   "metadata": {},
   "outputs": [
    {
     "name": "stdout",
     "output_type": "stream",
     "text": [
      "Give me everybody's names, separated by a comma. Angela, Ben, Jenny, Michael, Chloe\n",
      "Ben is going to buy the meal today!\n"
     ]
    }
   ],
   "source": [
    "# Import the random module here\n",
    "import random\n",
    "\n",
    "# Split string method\n",
    "names_string = input(\"Give me everybody's names, separated by a comma. \")\n",
    "names = names_string.split(\", \")\n",
    "# 🚨 Don't change the code above 👆\n",
    "\n",
    "#Write your code below this line 👇\n",
    "payer = random.randint(0, len(names)-1)\n",
    "\n",
    "print(f\"{names[payer]} is going to buy the meal today!\")"
   ]
  }
 ],
 "metadata": {
  "kernelspec": {
   "display_name": "Python 3 (ipykernel)",
   "language": "python",
   "name": "python3"
  },
  "language_info": {
   "codemirror_mode": {
    "name": "ipython",
    "version": 3
   },
   "file_extension": ".py",
   "mimetype": "text/x-python",
   "name": "python",
   "nbconvert_exporter": "python",
   "pygments_lexer": "ipython3",
   "version": "3.9.13"
  }
 },
 "nbformat": 4,
 "nbformat_minor": 5
}
