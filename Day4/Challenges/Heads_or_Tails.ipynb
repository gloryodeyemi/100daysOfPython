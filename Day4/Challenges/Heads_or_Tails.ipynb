{
 "cells": [
  {
   "cell_type": "markdown",
   "id": "456fb4ed",
   "metadata": {},
   "source": [
    "## Challenge: Heads or Tails\n",
    "\n",
    "### Instructions\n",
    "You are going to write a virtual coin toss program. It will randomly tell the user \"Heads\" or \"Tails\".\n",
    "\n",
    "**Important**, the first letter should be capitalised and spelt exactly like in the example e.g. Heads, not heads.\n",
    "\n",
    "There are many ways of doing this. But to practice what we learnt in the last lesson, you should generate a random number, either 0 or 1. Then use that number to print out Heads or Tails.\n",
    "\n",
    "e.g. 1 means Heads 0 means Tails\n",
    "\n",
    "### Example Output\n",
    "\n",
    "```Heads```\n",
    "\n",
    "or\n",
    "\n",
    "```Tails```"
   ]
  },
  {
   "cell_type": "code",
   "execution_count": 1,
   "id": "50084e79",
   "metadata": {},
   "outputs": [
    {
     "name": "stdout",
     "output_type": "stream",
     "text": [
      "Heads\n"
     ]
    }
   ],
   "source": [
    "#Remember to use the random module\n",
    "#Hint: Remember to import the random module here at the top of the file. 🎲\n",
    "import random\t \n",
    "#Write the rest of your code below this line 👇\n",
    "choice = random.randint(0,1)\n",
    "\n",
    "if choice == 0:\n",
    "    print(\"Heads\")\n",
    "else:\n",
    "    print(\"Tails\")"
   ]
  }
 ],
 "metadata": {
  "kernelspec": {
   "display_name": "Python 3 (ipykernel)",
   "language": "python",
   "name": "python3"
  },
  "language_info": {
   "codemirror_mode": {
    "name": "ipython",
    "version": 3
   },
   "file_extension": ".py",
   "mimetype": "text/x-python",
   "name": "python",
   "nbconvert_exporter": "python",
   "pygments_lexer": "ipython3",
   "version": "3.9.13"
  }
 },
 "nbformat": 4,
 "nbformat_minor": 5
}
