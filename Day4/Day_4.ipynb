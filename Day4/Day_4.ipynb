{
 "cells": [
  {
   "cell_type": "markdown",
   "id": "122cb644",
   "metadata": {},
   "source": [
    "## Day 4 - Beginner - Randomisation and Python Lists"
   ]
  },
  {
   "cell_type": "code",
   "execution_count": 1,
   "id": "baf4fdc9",
   "metadata": {},
   "outputs": [
    {
     "name": "stdout",
     "output_type": "stream",
     "text": [
      "9\n",
      "0.01636149242026419\n",
      "2.2872669482459917\n",
      "Your love score is 10%\n"
     ]
    }
   ],
   "source": [
    "# Random module\n",
    "import random\n",
    "\n",
    "random_integer = random.randint(1, 10)\n",
    "print(random_integer)\n",
    "\n",
    "random_float = random.random()\n",
    "print(random_float)\n",
    "\n",
    "# expand random floating point numbers\n",
    "random_float2 = random.random() * 5\n",
    "print(random_float2)\n",
    "\n",
    "love_score = random.randint(1, 100)\n",
    "print(f\"Your love score is {love_score}%\")"
   ]
  },
  {
   "cell_type": "code",
   "execution_count": 2,
   "id": "b6547cad",
   "metadata": {},
   "outputs": [
    {
     "name": "stdout",
     "output_type": "stream",
     "text": [
      "3.14\n"
     ]
    }
   ],
   "source": [
    "import my_module\n",
    "\n",
    "# Module\n",
    "print(my_module.pi)"
   ]
  },
  {
   "cell_type": "code",
   "execution_count": 3,
   "id": "d0a16801",
   "metadata": {},
   "outputs": [
    {
     "name": "stdout",
     "output_type": "stream",
     "text": [
      "Delaware\n",
      "Pennsylvania\n",
      "['Delaware', 'Pencilvania']\n",
      "['Delaware', 'Pencilvania', 'New Jersey']\n",
      "['Delaware', 'Pencilvania', 'New Jersey', 'Georgia', 'Connecticut']\n"
     ]
    }
   ],
   "source": [
    "# Data structure - Lists\n",
    "states_of_america = [\"Delaware\", \"Pennsylvania\"]\n",
    "print(states_of_america[0])\n",
    "print(states_of_america[-1])\n",
    "\n",
    "states_of_america[1] = \"Pencilvania\"\n",
    "print(states_of_america)\n",
    "\n",
    "states_of_america.append(\"New Jersey\")\n",
    "print(states_of_america)\n",
    "\n",
    "states_of_america.extend([\"Georgia\", \"Connecticut\"])\n",
    "print(states_of_america)"
   ]
  },
  {
   "cell_type": "code",
   "execution_count": 4,
   "id": "6a365360",
   "metadata": {},
   "outputs": [
    {
     "ename": "IndexError",
     "evalue": "list index out of range",
     "output_type": "error",
     "traceback": [
      "\u001b[0;31m---------------------------------------------------------------------------\u001b[0m",
      "\u001b[0;31mIndexError\u001b[0m                                Traceback (most recent call last)",
      "\u001b[0;32m/var/folders/ly/rf87jvlx4d93p4zbd_bs4l5c0000gn/T/ipykernel_15328/3502734239.py\u001b[0m in \u001b[0;36m<module>\u001b[0;34m\u001b[0m\n\u001b[1;32m      1\u001b[0m \u001b[0;31m# IndexError\u001b[0m\u001b[0;34m\u001b[0m\u001b[0;34m\u001b[0m\u001b[0m\n\u001b[0;32m----> 2\u001b[0;31m \u001b[0mprint\u001b[0m\u001b[0;34m(\u001b[0m\u001b[0mstates_of_america\u001b[0m\u001b[0;34m[\u001b[0m\u001b[0mlen\u001b[0m\u001b[0;34m(\u001b[0m\u001b[0mstates_of_america\u001b[0m\u001b[0;34m)\u001b[0m\u001b[0;34m]\u001b[0m\u001b[0;34m)\u001b[0m\u001b[0;34m\u001b[0m\u001b[0;34m\u001b[0m\u001b[0m\n\u001b[0m",
      "\u001b[0;31mIndexError\u001b[0m: list index out of range"
     ]
    }
   ],
   "source": [
    "# IndexError\n",
    "print(states_of_america[len(states_of_america)])"
   ]
  },
  {
   "cell_type": "code",
   "execution_count": 5,
   "id": "8f0908c4",
   "metadata": {},
   "outputs": [
    {
     "name": "stdout",
     "output_type": "stream",
     "text": [
      "Connecticut\n"
     ]
    }
   ],
   "source": [
    "print(states_of_america[len(states_of_america)-1])"
   ]
  },
  {
   "cell_type": "code",
   "execution_count": 6,
   "id": "5e622dc6",
   "metadata": {},
   "outputs": [
    {
     "name": "stdout",
     "output_type": "stream",
     "text": [
      "[['Strawberries', 'Nectarines', 'Apples', 'Grapes', 'Peaches', 'Cherries', 'Pears'], ['Spinach', 'Kale', 'Tomatoes', 'Celery', 'Potatoes']]\n"
     ]
    }
   ],
   "source": [
    "# Nested Lists\n",
    "# dirty_dozen = [\"Strawberries\", \"Spinach\", \"Kale\", \"Nectarines\", \"Apples\", \"Grapes\", \"Peaches\", \"Cherries\", \"Pears\", \"Tomatoes\", \"Celery\", \"Potatoes\"]\n",
    "\n",
    "fruits = [\"Strawberries\", \"Nectarines\", \"Apples\", \"Grapes\", \"Peaches\", \"Cherries\", \"Pears\"]\n",
    "vegetables = [\"Spinach\", \"Kale\", \"Tomatoes\", \"Celery\", \"Potatoes\"]\n",
    "\n",
    "dirty_dozen = [fruits, vegetables]\n",
    "print(dirty_dozen)"
   ]
  }
 ],
 "metadata": {
  "kernelspec": {
   "display_name": "Python 3 (ipykernel)",
   "language": "python",
   "name": "python3"
  },
  "language_info": {
   "codemirror_mode": {
    "name": "ipython",
    "version": 3
   },
   "file_extension": ".py",
   "mimetype": "text/x-python",
   "name": "python",
   "nbconvert_exporter": "python",
   "pygments_lexer": "ipython3",
   "version": "3.9.13"
  }
 },
 "nbformat": 4,
 "nbformat_minor": 5
}
