{
 "cells": [
  {
   "cell_type": "markdown",
   "id": "912163a2",
   "metadata": {},
   "source": [
    "## Day 13 - Beginner - Debugging: How to Find and Fix Errors in your Code"
   ]
  },
  {
   "cell_type": "code",
   "execution_count": 2,
   "id": "1a7b6f2f",
   "metadata": {},
   "outputs": [
    {
     "name": "stdout",
     "output_type": "stream",
     "text": [
      "You got it\n"
     ]
    }
   ],
   "source": [
    "# Describe Problem\n",
    "def my_function():\n",
    "    for i in range(1, 21):\n",
    "        if i == 20:\n",
    "            print(\"You got it\")\n",
    "my_function()"
   ]
  }
 ],
 "metadata": {
  "kernelspec": {
   "display_name": "Python 3 (ipykernel)",
   "language": "python",
   "name": "python3"
  },
  "language_info": {
   "codemirror_mode": {
    "name": "ipython",
    "version": 3
   },
   "file_extension": ".py",
   "mimetype": "text/x-python",
   "name": "python",
   "nbconvert_exporter": "python",
   "pygments_lexer": "ipython3",
   "version": "3.9.13"
  }
 },
 "nbformat": 4,
 "nbformat_minor": 5
}
