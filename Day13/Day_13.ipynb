{
 "cells": [
  {
   "cell_type": "markdown",
   "id": "a90dfec8",
   "metadata": {},
   "source": [
    "## Day 13 - Beginner - Debugging: How to Find and Fix Errors in your Code"
   ]
  },
  {
   "cell_type": "code",
   "execution_count": 2,
   "id": "b33462e5",
   "metadata": {},
   "outputs": [
    {
     "name": "stdout",
     "output_type": "stream",
     "text": [
      "You got it\n"
     ]
    }
   ],
   "source": [
    "# Describe Problem\n",
    "def my_function():\n",
    "    for i in range(1, 21):\n",
    "        if i == 20:\n",
    "            print(\"You got it\")\n",
    "my_function()"
   ]
  },
  {
   "cell_type": "code",
   "execution_count": 6,
   "id": "b0c7714d",
   "metadata": {},
   "outputs": [
    {
     "name": "stdout",
     "output_type": "stream",
     "text": [
      "❶\n"
     ]
    }
   ],
   "source": [
    "# Reproduce the Bug\n",
    "from random import randint\n",
    "dice_imgs = [\"❶\", \"❷\", \"❸\", \"❹\", \"❺\", \"❻\"]\n",
    "dice_num = randint(0, 5)\n",
    "print(dice_imgs[dice_num])"
   ]
  },
  {
   "cell_type": "code",
   "execution_count": 8,
   "id": "49c4ce74",
   "metadata": {},
   "outputs": [
    {
     "name": "stdout",
     "output_type": "stream",
     "text": [
      "What's your year of birth?1999\n",
      "You are a Gen Z.\n"
     ]
    }
   ],
   "source": [
    "# Play Computer\n",
    "year = int(input(\"What's your year of birth?\"))\n",
    "if year > 1980 and year < 1994:\n",
    "    print(\"You are a millenial.\")\n",
    "elif year >= 1994:\n",
    "    print(\"You are a Gen Z.\")"
   ]
  }
 ],
 "metadata": {
  "kernelspec": {
   "display_name": "Python 3 (ipykernel)",
   "language": "python",
   "name": "python3"
  },
  "language_info": {
   "codemirror_mode": {
    "name": "ipython",
    "version": 3
   },
   "file_extension": ".py",
   "mimetype": "text/x-python",
   "name": "python",
   "nbconvert_exporter": "python",
   "pygments_lexer": "ipython3",
   "version": "3.9.13"
  }
 },
 "nbformat": 4,
 "nbformat_minor": 5
}
