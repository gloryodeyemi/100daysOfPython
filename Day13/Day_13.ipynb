{
 "cells": [
  {
   "cell_type": "markdown",
   "id": "9abc028a",
   "metadata": {},
   "source": [
    "## Day 13 - Beginner - Debugging: How to Find and Fix Errors in your Code"
   ]
  },
  {
   "cell_type": "markdown",
   "id": "e594c43f",
   "metadata": {},
   "source": [
    "### Debugging Tips\n",
    "1. Describe the problem\n",
    "2. Reproduce the bug\n",
    "3. Play computer\n",
    "4. Fix the errors\n",
    "5. Print is your friend\n",
    "6. Use a debugger\n",
    "7. Take a break\n",
    "8. Ask a friend\n",
    "9. Run the code often\n",
    "10. Ask StackOverflow"
   ]
  },
  {
   "cell_type": "code",
   "execution_count": 2,
   "id": "a7be9cd0",
   "metadata": {},
   "outputs": [
    {
     "name": "stdout",
     "output_type": "stream",
     "text": [
      "You got it\n"
     ]
    }
   ],
   "source": [
    "# Describe Problem\n",
    "def my_function():\n",
    "    for i in range(1, 21):\n",
    "        if i == 20:\n",
    "            print(\"You got it\")\n",
    "my_function()"
   ]
  },
  {
   "cell_type": "code",
   "execution_count": 6,
   "id": "150b96cb",
   "metadata": {},
   "outputs": [
    {
     "name": "stdout",
     "output_type": "stream",
     "text": [
      "❶\n"
     ]
    }
   ],
   "source": [
    "# Reproduce the Bug\n",
    "from random import randint\n",
    "dice_imgs = [\"❶\", \"❷\", \"❸\", \"❹\", \"❺\", \"❻\"]\n",
    "dice_num = randint(0, 5)\n",
    "print(dice_imgs[dice_num])"
   ]
  },
  {
   "cell_type": "code",
   "execution_count": 8,
   "id": "c06705c5",
   "metadata": {},
   "outputs": [
    {
     "name": "stdout",
     "output_type": "stream",
     "text": [
      "What's your year of birth?1999\n",
      "You are a Gen Z.\n"
     ]
    }
   ],
   "source": [
    "# Play Computer\n",
    "year = int(input(\"What's your year of birth?\"))\n",
    "if year > 1980 and year < 1994:\n",
    "    print(\"You are a millenial.\")\n",
    "elif year >= 1994:\n",
    "    print(\"You are a Gen Z.\")"
   ]
  },
  {
   "cell_type": "code",
   "execution_count": 10,
   "id": "dd70f454",
   "metadata": {},
   "outputs": [
    {
     "name": "stdout",
     "output_type": "stream",
     "text": [
      "How old are you?24\n",
      "You can drive at age 24.\n"
     ]
    }
   ],
   "source": [
    "# Fix the Errors\n",
    "age = int(input(\"How old are you?\"))\n",
    "if age > 18:\n",
    "    print(f\"You can drive at age {age}.\")"
   ]
  },
  {
   "cell_type": "code",
   "execution_count": 12,
   "id": "95056209",
   "metadata": {},
   "outputs": [
    {
     "name": "stdout",
     "output_type": "stream",
     "text": [
      "Number of pages: 120\n",
      "Number of words per page: 250\n",
      "Pages = 120\n",
      "Words per page = 250\n",
      "30000\n"
     ]
    }
   ],
   "source": [
    "#Print is Your Friend\n",
    "pages = 0\n",
    "word_per_page = 0\n",
    "pages = int(input(\"Number of pages: \"))\n",
    "word_per_page = int(input(\"Number of words per page: \"))\n",
    "print(f\"Pages = {pages}\")\n",
    "print(f\"Words per page = {word_per_page}\")\n",
    "total_words = pages * word_per_page\n",
    "print(total_words)"
   ]
  },
  {
   "cell_type": "code",
   "execution_count": 13,
   "id": "b3d6c5e3",
   "metadata": {},
   "outputs": [
    {
     "name": "stdout",
     "output_type": "stream",
     "text": [
      "[2, 4, 6, 10, 16, 26]\n"
     ]
    }
   ],
   "source": [
    "#Use a Debugger, e.g., pythontutor.com\n",
    "def mutate(a_list):\n",
    "    b_list = []\n",
    "    for item in a_list:\n",
    "        new_item = item * 2\n",
    "        b_list.append(new_item)\n",
    "    print(b_list)\n",
    "\n",
    "mutate([1,2,3,5,8,13])"
   ]
  }
 ],
 "metadata": {
  "kernelspec": {
   "display_name": "Python 3 (ipykernel)",
   "language": "python",
   "name": "python3"
  },
  "language_info": {
   "codemirror_mode": {
    "name": "ipython",
    "version": 3
   },
   "file_extension": ".py",
   "mimetype": "text/x-python",
   "name": "python",
   "nbconvert_exporter": "python",
   "pygments_lexer": "ipython3",
   "version": "3.9.13"
  }
 },
 "nbformat": 4,
 "nbformat_minor": 5
}
