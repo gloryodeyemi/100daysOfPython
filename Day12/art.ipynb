{
 "cells": [
  {
   "cell_type": "code",
   "execution_count": 6,
   "id": "1509c4e8",
   "metadata": {},
   "outputs": [],
   "source": [
    "logo = \"\"\"\n",
    "     \\/    wWw  wWw        oo_    oo_       (o)__(o)\\\\  //           \\\\\\  ///wWw  wWw\\\\\\    /// _           ))     \n",
    "    (OO)   (O)  (O)   wWw /  _)-</  _)-<    (__  __)(o)(o)  wWw      ((O)(O))(O)  (O)((O)  (O))/||_    wWw (Oo)-.  \n",
    "  ,'.--.)  / )  ( \\   (O)_\\__ `. \\__ `.       (  )  ||  ||  (O)_      | \\ || / )  ( \\ | \\  / |  /`_)   (O)_ | (_)) \n",
    " / /|_|_\\ / /    \\ \\ .' __)  `. |   `. |       )(   |(__)| .' __)     ||\\\\||/ /    \\ \\||\\\\//|| |  `.  .' __)|  .'  \n",
    " | \\_.--. | \\____/ |(  _)    _| |   _| |      (  )  /.--.\\(  _)       || \\ || \\____/ ||| \\/ || | (_))(  _)  )|\\\\   \n",
    " '.   \\) \\'. `--' .` `.__),-'   |,-'   |       )/  -'    `-`.__)      ||  ||'. `--' .`||    || (.'-'  `.__)(/  \\)  \n",
    "   `-.(_.'  `-..-'       (_..--'(_..--'       (                      (_/  \\_) `-..-' (_/    \\_) )           )      \n",
    "\"\"\""
   ]
  }
 ],
 "metadata": {
  "kernelspec": {
   "display_name": "Python 3 (ipykernel)",
   "language": "python",
   "name": "python3"
  },
  "language_info": {
   "codemirror_mode": {
    "name": "ipython",
    "version": 3
   },
   "file_extension": ".py",
   "mimetype": "text/x-python",
   "name": "python",
   "nbconvert_exporter": "python",
   "pygments_lexer": "ipython3",
   "version": "3.9.13"
  }
 },
 "nbformat": 4,
 "nbformat_minor": 5
}
