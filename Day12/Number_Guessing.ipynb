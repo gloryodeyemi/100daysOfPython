{
 "cells": [
  {
   "cell_type": "markdown",
   "id": "5e3b5bf4",
   "metadata": {},
   "source": [
    "## Day 12 Project - Number Guessing Game"
   ]
  },
  {
   "cell_type": "markdown",
   "id": "1564cd04",
   "metadata": {},
   "source": [
    "### Checklist\n",
    "\n",
    "1. Number is between 1 to 100.\n",
    "2. There are two levels - easy and hard\n",
    "3. Easy has 10 attempts, while hard has 5 attempts\n",
    "4. If guess is less than number, reply too low.\n",
    "5. If guess is higher than number, reply too high.\n",
    "6. For every incorrect guess, remove an attempt.\n",
    "7. Game over when attempt = 0.\n",
    "8. Game over when user gets the correct answer."
   ]
  },
  {
   "cell_type": "code",
   "execution_count": 8,
   "id": "3021598e",
   "metadata": {},
   "outputs": [
    {
     "name": "stdout",
     "output_type": "stream",
     "text": [
      "I am thinking of a number between 1 and 100. Can you guess it?\n",
      "\n",
      "Choose a difficulty level ('easy' or 'hard'): ghi\n",
      "\n",
      "Invalid input! Type 'easy' or 'hard': easy\n",
      "\n",
      "You have 10 attempts remaining to guess the number.\n",
      "Make a guess: 8\n",
      "Ooops! Too low.\n",
      "\n",
      "\n",
      "You have 9 attempts remaining to guess the number.\n",
      "Make a guess: 90\n",
      "Ooops! Too high.\n",
      "\n",
      "\n",
      "You have 8 attempts remaining to guess the number.\n",
      "Make a guess: 56\n",
      "Ooops! Too high.\n",
      "\n",
      "\n",
      "You have 7 attempts remaining to guess the number.\n",
      "Make a guess: 34\n",
      "Ooops! Too low.\n",
      "\n",
      "\n",
      "You have 6 attempts remaining to guess the number.\n",
      "Make a guess: 45\n",
      "Ooops! Too high.\n",
      "\n",
      "\n",
      "You have 5 attempts remaining to guess the number.\n",
      "Make a guess: 38\n",
      "Ooops! Too high.\n",
      "\n",
      "\n",
      "You have 4 attempts remaining to guess the number.\n",
      "Make a guess: 37\n",
      "Yassss!!! You got it.\n",
      "The number is 37.\n"
     ]
    }
   ],
   "source": [
    "import random\n",
    "import art\n",
    "\n",
    "def number_guesser():\n",
    "    \"\"\"\n",
    "    This function, when called, allows you to play the number guessing game.\n",
    "    The rule is to keep making guessed until you get the number the computer is thinking of.\n",
    "    There are two difficulty levels: easy and hard.\n",
    "    You get 5 attempts for the hard level, and 10 attempts for the easy level.\n",
    "    \"\"\"\n",
    "    print(art.logo) # display the game art\n",
    "    \n",
    "    random_number = random.randint(1, 100) # generate a random number\n",
    "    user_attempt = 0 # set user attempt as 0\n",
    "\n",
    "    print(\"I am thinking of a number between 1 and 100. Can you guess it?\\n\")\n",
    "    \n",
    "    difficulty = input(\"Choose a difficulty level ('easy' or 'hard'): \").lower()\n",
    "\n",
    "    # keep asking for difficulty if input is invalid\n",
    "    while difficulty != 'easy' and difficulty != 'hard':\n",
    "        difficulty = input(\"\\nInvalid input! Type 'easy' or 'hard': \").lower()\n",
    "    \n",
    "    if difficulty == \"easy\":\n",
    "        user_attempt = 10 # if difficulty is easy\n",
    "    else:\n",
    "        user_attempt = 5 # if difficulty is hard\n",
    "\n",
    "    # keep guessing until attempt = 0    \n",
    "    while user_attempt > 0:\n",
    "        # display number of attempts\n",
    "        print(f\"\\nYou have {user_attempt} attempts remaining to guess the number.\")\n",
    "        user_guess = int(input(\"Make a guess: \"))\n",
    "\n",
    "        if user_guess > random_number:\n",
    "            print(\"Ooops! Too high.\\n\")\n",
    "            user_attempt -= 1\n",
    "        elif user_guess < random_number:\n",
    "            print(\"Ooops! Too low.\\n\")\n",
    "            user_attempt -= 1\n",
    "        else:\n",
    "            print(f\"Yassss!!! You got it.\\nThe number is {random_number}.\")\n",
    "            user_attempt = -1\n",
    "\n",
    "        if user_attempt == 0:\n",
    "            print(\"You've run out of guesses, you lose.\")\n",
    "    \n",
    "    \n",
    "    "
   ]
  }
 ],
 "metadata": {
  "kernelspec": {
   "display_name": "Python 3 (ipykernel)",
   "language": "python",
   "name": "python3"
  },
  "language_info": {
   "codemirror_mode": {
    "name": "ipython",
    "version": 3
   },
   "file_extension": ".py",
   "mimetype": "text/x-python",
   "name": "python",
   "nbconvert_exporter": "python",
   "pygments_lexer": "ipython3",
   "version": "3.9.13"
  }
 },
 "nbformat": 4,
 "nbformat_minor": 5
}
