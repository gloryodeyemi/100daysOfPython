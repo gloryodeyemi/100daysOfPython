{
 "cells": [
  {
   "cell_type": "markdown",
   "id": "e3e05a41",
   "metadata": {},
   "source": [
    "## Day 2 Project - Tip Calculator"
   ]
  },
  {
   "cell_type": "code",
   "execution_count": 1,
   "id": "aca8b787",
   "metadata": {},
   "outputs": [
    {
     "name": "stdout",
     "output_type": "stream",
     "text": [
      "*****************\n",
      "Tip Calculator!!!\n",
      "*****************\n",
      "You give me your bill, I'll add the tip.\n",
      "----------------------------------------\n",
      "\n",
      "What is the total bill? 150\n",
      "\n",
      "How many percent tip are you offering - 10, 12, or 15? 12\n",
      "\n",
      "How many people are splitting the bill? 5\n",
      "\n",
      "Each person is paying: $33.60\n",
      "----------------------------------------\n"
     ]
    }
   ],
   "source": [
    "title = \"Tip Calculator!!!\"\n",
    "print(\"*\"*len(title))\n",
    "print(title)\n",
    "print(\"*\"*len(title))\n",
    "print(\"You give me your bill, I'll add the tip.\")\n",
    "print(\"----------------------------------------\")\n",
    "print()\n",
    "\n",
    "total_bill = float(input(\"What is the total bill? \"))\n",
    "print()\n",
    "\n",
    "tip_percent = int(input(\"How many percent tip are you offering - 10, 12, or 15? \"))\n",
    "print()\n",
    "\n",
    "num_of_people = int(input(\"How many people are splitting the bill? \"))\n",
    "print()\n",
    "\n",
    "total_bill += (tip_percent / 100) * total_bill\n",
    "individual_bill = round(total_bill / num_of_people, 2)\n",
    "\n",
    "print(f\"Each person is paying: ${individual_bill:.2f}\")\n",
    "\n",
    "print(\"----------------------------------------\")"
   ]
  }
 ],
 "metadata": {
  "kernelspec": {
   "display_name": "Python 3 (ipykernel)",
   "language": "python",
   "name": "python3"
  },
  "language_info": {
   "codemirror_mode": {
    "name": "ipython",
    "version": 3
   },
   "file_extension": ".py",
   "mimetype": "text/x-python",
   "name": "python",
   "nbconvert_exporter": "python",
   "pygments_lexer": "ipython3",
   "version": "3.9.13"
  }
 },
 "nbformat": 4,
 "nbformat_minor": 5
}
