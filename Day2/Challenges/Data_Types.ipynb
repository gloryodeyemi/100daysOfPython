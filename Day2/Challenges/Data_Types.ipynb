{
 "cells": [
  {
   "cell_type": "markdown",
   "id": "b80e47d7",
   "metadata": {},
   "source": [
    "## Challenge: Data Types\n",
    "\n",
    "### Instructions\n",
    "Write a program that adds the digits in a 2 digit number. e.g. if the input was 35, then the output should be 3 + 5 = 8\n",
    "\n",
    "**Warning:** Do not change the code on lines 1-3. Your program should work for different inputs. e.g. any two-digit number."
   ]
  },
  {
   "cell_type": "code",
   "execution_count": 1,
   "id": "dbc1011e",
   "metadata": {},
   "outputs": [
    {
     "name": "stdout",
     "output_type": "stream",
     "text": [
      "Type a two digit number: 45\n",
      "9\n"
     ]
    }
   ],
   "source": [
    "# 🚨 Don't change the code below 👇\n",
    "two_digit_number = input(\"Type a two digit number: \")\n",
    "# 🚨 Don't change the code above 👆\n",
    "\n",
    "####################################\n",
    "#Write your code below this line 👇\n",
    "print(int(two_digit_number[0]) + int(two_digit_number[1]))"
   ]
  }
 ],
 "metadata": {
  "kernelspec": {
   "display_name": "Python 3 (ipykernel)",
   "language": "python",
   "name": "python3"
  },
  "language_info": {
   "codemirror_mode": {
    "name": "ipython",
    "version": 3
   },
   "file_extension": ".py",
   "mimetype": "text/x-python",
   "name": "python",
   "nbconvert_exporter": "python",
   "pygments_lexer": "ipython3",
   "version": "3.9.13"
  }
 },
 "nbformat": 4,
 "nbformat_minor": 5
}
