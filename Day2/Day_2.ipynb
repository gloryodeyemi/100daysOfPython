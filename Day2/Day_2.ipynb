{
 "cells": [
  {
   "cell_type": "markdown",
   "id": "c0698ebc",
   "metadata": {},
   "source": [
    "## Day 2 - Beginner - Understanding data types and how to manipulate strings."
   ]
  }
 ],
 "metadata": {
  "kernelspec": {
   "display_name": "Python 3 (ipykernel)",
   "language": "python",
   "name": "python3"
  },
  "language_info": {
   "codemirror_mode": {
    "name": "ipython",
    "version": 3
   },
   "file_extension": ".py",
   "mimetype": "text/x-python",
   "name": "python",
   "nbconvert_exporter": "python",
   "pygments_lexer": "ipython3",
   "version": "3.9.13"
  }
 },
 "nbformat": 4,
 "nbformat_minor": 5
}
