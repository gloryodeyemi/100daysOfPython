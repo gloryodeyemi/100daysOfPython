{
 "cells": [
  {
   "cell_type": "markdown",
   "id": "94ee21b2",
   "metadata": {},
   "source": [
    "## Day 2 - Beginner - Understanding data types and how to manipulate strings."
   ]
  },
  {
   "cell_type": "code",
   "execution_count": 1,
   "id": "35684649",
   "metadata": {},
   "outputs": [
    {
     "name": "stdout",
     "output_type": "stream",
     "text": [
      "o\n",
      "468\n",
      "123456789\n",
      "3.14\n",
      "True\n",
      "False\n"
     ]
    }
   ],
   "source": [
    "# Data Types\n",
    "\n",
    "# String - subscript\n",
    "print(\"Hello\"[-1])\n",
    "\n",
    "# Integer\n",
    "print(123 + 345)\n",
    "print(123_456_789)\n",
    "\n",
    "# Float\n",
    "print(3.14)\n",
    "\n",
    "# Boolean\n",
    "print(True)\n",
    "print(False)"
   ]
  },
  {
   "cell_type": "code",
   "execution_count": 2,
   "id": "a4dfe496",
   "metadata": {},
   "outputs": [
    {
     "ename": "TypeError",
     "evalue": "object of type 'int' has no len()",
     "output_type": "error",
     "traceback": [
      "\u001b[0;31m---------------------------------------------------------------------------\u001b[0m",
      "\u001b[0;31mTypeError\u001b[0m                                 Traceback (most recent call last)",
      "\u001b[0;32m/var/folders/ly/rf87jvlx4d93p4zbd_bs4l5c0000gn/T/ipykernel_88437/2773815724.py\u001b[0m in \u001b[0;36m<module>\u001b[0;34m\u001b[0m\n\u001b[1;32m      1\u001b[0m \u001b[0;31m# TypeError\u001b[0m\u001b[0;34m\u001b[0m\u001b[0;34m\u001b[0m\u001b[0m\n\u001b[0;32m----> 2\u001b[0;31m \u001b[0mlen\u001b[0m\u001b[0;34m(\u001b[0m\u001b[0;36m123\u001b[0m\u001b[0;34m)\u001b[0m\u001b[0;34m\u001b[0m\u001b[0;34m\u001b[0m\u001b[0m\n\u001b[0m",
      "\u001b[0;31mTypeError\u001b[0m: object of type 'int' has no len()"
     ]
    }
   ],
   "source": [
    "# TypeError\n",
    "len(123)"
   ]
  },
  {
   "cell_type": "code",
   "execution_count": 3,
   "id": "8b2ac8df",
   "metadata": {},
   "outputs": [
    {
     "name": "stdout",
     "output_type": "stream",
     "text": [
      "What is your name? Glory\n",
      "<class 'int'>\n"
     ]
    }
   ],
   "source": [
    "# Type checking\n",
    "num_char = len(input(\"What is your name? \"))\n",
    "print(type(num_char))"
   ]
  },
  {
   "cell_type": "code",
   "execution_count": 4,
   "id": "ec8c1570",
   "metadata": {},
   "outputs": [
    {
     "name": "stdout",
     "output_type": "stream",
     "text": [
      "Your name has 5 characters.\n",
      "170.5\n",
      "70100\n"
     ]
    }
   ],
   "source": [
    "# Type casting\n",
    "new_num_char = str(num_char)\n",
    "print(\"Your name has \" + new_num_char + \" characters.\")\n",
    "print(70 + float(\"100.5\"))\n",
    "print(str(70) + str(100))"
   ]
  },
  {
   "cell_type": "code",
   "execution_count": 5,
   "id": "53083b77",
   "metadata": {},
   "outputs": [
    {
     "name": "stdout",
     "output_type": "stream",
     "text": [
      "8\n",
      "3\n",
      "6\n",
      "2.0\n",
      "8\n",
      "7.0\n",
      "3.0\n"
     ]
    }
   ],
   "source": [
    "# Mathematical operators\n",
    "print(3 + 5)\n",
    "print(5 - 2)\n",
    "print(3 * 2)\n",
    "print(6 / 3)\n",
    "print(2 ** 3)\n",
    "print(3 * 3 + 3 / 3 - 3)\n",
    "print(3 * (3 + 3) / 3 - 3)"
   ]
  },
  {
   "cell_type": "code",
   "execution_count": 6,
   "id": "c598d250",
   "metadata": {},
   "outputs": [
    {
     "name": "stdout",
     "output_type": "stream",
     "text": [
      "2.67\n",
      "2\n",
      "1.0\n",
      "Your result is 1.0\n"
     ]
    }
   ],
   "source": [
    "#Number manipulation and F strings\n",
    "print(round(8 / 3, 2))\n",
    "print(8 // 3)\n",
    "result = 4 / 2\n",
    "result /= 2\n",
    "print(result)\n",
    "print(f\"Your result is {result}\")"
   ]
  }
 ],
 "metadata": {
  "kernelspec": {
   "display_name": "Python 3 (ipykernel)",
   "language": "python",
   "name": "python3"
  },
  "language_info": {
   "codemirror_mode": {
    "name": "ipython",
    "version": 3
   },
   "file_extension": ".py",
   "mimetype": "text/x-python",
   "name": "python",
   "nbconvert_exporter": "python",
   "pygments_lexer": "ipython3",
   "version": "3.9.13"
  }
 },
 "nbformat": 4,
 "nbformat_minor": 5
}
