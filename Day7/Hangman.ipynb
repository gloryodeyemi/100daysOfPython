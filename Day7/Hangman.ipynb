{
 "cells": [
  {
   "cell_type": "markdown",
   "id": "9042a0c6",
   "metadata": {},
   "source": [
    "## Day 7 Project - Hangman"
   ]
  },
  {
   "cell_type": "code",
   "execution_count": 1,
   "id": "35359af8",
   "metadata": {},
   "outputs": [
    {
     "name": "stdout",
     "output_type": "stream",
     "text": [
      "Enter a letter: a\n",
      "Right\n",
      "Right\n",
      "Wrong\n",
      "Wrong\n",
      "Wrong\n",
      "Right\n",
      "Wrong\n",
      "Wrong\n"
     ]
    }
   ],
   "source": [
    "#Step 1 \n",
    "import random\n",
    "\n",
    "word_list = [\"aardvark\", \"baboon\", \"camel\"]\n",
    "\n",
    "#TODO-1 - Randomly choose a word from the word_list and assign it to a variable called chosen_word.\n",
    "chosen_word = random.choice(word_list)\n",
    "# print(chosen_word)\n",
    "\n",
    "#TODO-2 - Ask the user to guess a letter and assign their answer to a variable called guess. Make guess lowercase.\n",
    "guess = input(\"Enter a letter: \").lower()\n",
    "\n",
    "#TODO-3 - Check if the letter the user guessed (guess) is one of the letters in the chosen_word.\n",
    "for letter in chosen_word:\n",
    "    # print(letter)\n",
    "    if guess == letter:\n",
    "        print(\"Right\")\n",
    "    else:\n",
    "        print(\"Wrong\")"
   ]
  },
  {
   "cell_type": "code",
   "execution_count": 2,
   "id": "f5ac17d0",
   "metadata": {},
   "outputs": [
    {
     "name": "stdout",
     "output_type": "stream",
     "text": [
      "Pssst, the solution is baboon.\n",
      "Guess a letter: o\n",
      "['_', '_', '_', 'o', 'o', '_']\n"
     ]
    }
   ],
   "source": [
    "#Step 2\n",
    "\n",
    "import random\n",
    "word_list = [\"aardvark\", \"baboon\", \"camel\"]\n",
    "chosen_word = random.choice(word_list)\n",
    "\n",
    "#Testing code\n",
    "print(f'Pssst, the solution is {chosen_word}.')\n",
    "\n",
    "#TODO-1: - Create an empty List called display.\n",
    "#For each letter in the chosen_word, add a \"_\" to 'display'.\n",
    "#So if the chosen_word was \"apple\", display should be [\"_\", \"_\", \"_\", \"_\", \"_\"] with 5 \"_\" representing each letter to guess.\n",
    "\n",
    "guess = input(\"Guess a letter: \").lower()\n",
    "\n",
    "display = []\n",
    "\n",
    "for letter in range(1, len(chosen_word) + 1):\n",
    "    display.append(\"_\")\n",
    "\n",
    "#TODO-2: - Loop through each position in the chosen_word;\n",
    "#If the letter at that position matches 'guess' then reveal that letter in the display at that position.\n",
    "#e.g. If the user guessed \"p\" and the chosen word was \"apple\", then display should be [\"_\", \"p\", \"p\", \"_\", \"_\"].\n",
    "index = 0\n",
    "\n",
    "for letter in chosen_word:\n",
    "    if letter == guess:\n",
    "        display[index] = letter   \n",
    "    index += 1\n",
    "\n",
    "#TODO-3: - Print 'display' and you should see the guessed letter in the correct position and every other letter replace with \"_\".\n",
    "#Hint - Don't worry about getting the user to guess the next letter. We'll tackle that in step 3.\n",
    "print(display)"
   ]
  },
  {
   "cell_type": "code",
   "execution_count": 3,
   "id": "c4b66629",
   "metadata": {},
   "outputs": [
    {
     "name": "stdout",
     "output_type": "stream",
     "text": [
      "Pssst, the solution is baboon.\n",
      "Guess a letter: o\n",
      "['_', '_', '_', 'o', 'o', '_']\n",
      "Guess a letter: a\n",
      "['_', 'a', '_', 'o', 'o', '_']\n",
      "Guess a letter: b\n",
      "['b', 'a', 'b', 'o', 'o', '_']\n",
      "Guess a letter: l\n",
      "['b', 'a', 'b', 'o', 'o', '_']\n",
      "Guess a letter: m\n",
      "['b', 'a', 'b', 'o', 'o', '_']\n",
      "Guess a letter: p\n",
      "['b', 'a', 'b', 'o', 'o', '_']\n",
      "Guess a letter: n\n",
      "['b', 'a', 'b', 'o', 'o', 'n']\n",
      "You win!!!\n"
     ]
    }
   ],
   "source": [
    "#Step 3\n",
    "\n",
    "import random\n",
    "word_list = [\"aardvark\", \"baboon\", \"camel\"]\n",
    "chosen_word = random.choice(word_list)\n",
    "word_length = len(chosen_word)\n",
    "\n",
    "#Testing code\n",
    "print(f'Pssst, the solution is {chosen_word}.')\n",
    "\n",
    "#Create blanks\n",
    "display = []\n",
    "for _ in range(word_length):\n",
    "    display += \"_\"\n",
    "\n",
    "#TODO-1: - Use a while loop to let the user guess again. The loop should only stop once the user has guessed all the letters in the chosen_word and 'display' has no more blanks (\"_\"). Then you can tell the user they've won.\n",
    "\n",
    "while \"_\" in display:\n",
    "    guess = input(\"Guess a letter: \").lower()\n",
    "    \n",
    "    #Check guessed letter\n",
    "    for position in range(word_length):\n",
    "        letter = chosen_word[position]\n",
    "        # print(f\"Current position: {position}\\n Current letter: {letter}\\n Guessed letter: {guess}\")\n",
    "        if letter == guess:\n",
    "            display[position] = letter\n",
    "    \n",
    "    print(display)\n",
    "\n",
    "print(\"You win!!!\")"
   ]
  }
 ],
 "metadata": {
  "kernelspec": {
   "display_name": "Python 3 (ipykernel)",
   "language": "python",
   "name": "python3"
  },
  "language_info": {
   "codemirror_mode": {
    "name": "ipython",
    "version": 3
   },
   "file_extension": ".py",
   "mimetype": "text/x-python",
   "name": "python",
   "nbconvert_exporter": "python",
   "pygments_lexer": "ipython3",
   "version": "3.9.13"
  }
 },
 "nbformat": 4,
 "nbformat_minor": 5
}
