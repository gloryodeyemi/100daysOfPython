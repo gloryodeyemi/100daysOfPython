{
 "cells": [
  {
   "cell_type": "markdown",
   "id": "977ef0f3",
   "metadata": {},
   "source": [
    "## Day 1 Project - Band Name Generator"
   ]
  },
  {
   "cell_type": "code",
   "execution_count": 1,
   "id": "dddc6108",
   "metadata": {},
   "outputs": [
    {
     "name": "stdout",
     "output_type": "stream",
     "text": [
      "**********************\n",
      "Band Name Generator!!!\n",
      "**********************\n",
      "Give me your details and I'll give you a name.\n",
      "----------------------------------------------\n",
      "\n",
      "What city did you grow up in?\n",
      "Test\n",
      "\n",
      "What is the name of a pet?\n",
      "Treasure\n",
      "\n",
      "Drumroll please!!!!!!!!!!!\n",
      "\n",
      "                         *************\n",
      "Your band name could be: Test Treasure\n",
      "                         *************\n",
      "----------------------------------------------\n"
     ]
    }
   ],
   "source": [
    "#1. Create a greeting for your program.\n",
    "title = \"Band Name Generator!!!\"\n",
    "print(\"*\"*len(title))\n",
    "print(title)\n",
    "print(\"*\"*len(title))\n",
    "print(\"Give me your details and I'll give you a name.\")\n",
    "print(\"----------------------------------------------\\n\")\n",
    "\n",
    "#2. Ask the user for the city that they grew up in.\n",
    "city = input(\"What city did you grow up in?\\n\")\n",
    "print()\n",
    "\n",
    "#3. Ask the user for the name of a pet.\n",
    "pet = input(\"What is the name of a pet?\\n\")\n",
    "print()\n",
    "\n",
    "#4. Combine the name of their city and pet and show them their band name.\n",
    "band_name = city + \" \" + pet\n",
    "print(\"Drumroll please!!!!!!!!!!!\")\n",
    "print()\n",
    "\n",
    "announcement = \"Your band name could be: \"\n",
    "print(\" \"*len(announcement) + \"*\"*len(band_name))\n",
    "print(announcement + band_name)\n",
    "print(\" \"*len(announcement) + \"*\"*len(band_name))\n",
    "\n",
    "print(\"----------------------------------------------\")"
   ]
  }
 ],
 "metadata": {
  "kernelspec": {
   "display_name": "Python 3 (ipykernel)",
   "language": "python",
   "name": "python3"
  },
  "language_info": {
   "codemirror_mode": {
    "name": "ipython",
    "version": 3
   },
   "file_extension": ".py",
   "mimetype": "text/x-python",
   "name": "python",
   "nbconvert_exporter": "python",
   "pygments_lexer": "ipython3",
   "version": "3.9.13"
  }
 },
 "nbformat": 4,
 "nbformat_minor": 5
}
