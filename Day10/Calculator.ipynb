{
 "cells": [
  {
   "cell_type": "markdown",
   "id": "3566c18b",
   "metadata": {},
   "source": [
    "## Day 10 Project - Calculator"
   ]
  },
  {
   "cell_type": "code",
   "execution_count": 1,
   "id": "422b6a1f",
   "metadata": {},
   "outputs": [
    {
     "name": "stdout",
     "output_type": "stream",
     "text": [
      "\n",
      " _____________________\n",
      "|  _________________  |\n",
      "| | Pythonista   0. | |  .----------------.  .----------------.  .----------------.  .----------------. \n",
      "| |_________________| | | .--------------. || .--------------. || .--------------. || .--------------. |\n",
      "|  ___ ___ ___   ___  | | |     ______   | || |      __      | || |   _____      | || |     ______   | |\n",
      "| | 7 | 8 | 9 | | + | | | |   .' ___  |  | || |     /  \\     | || |  |_   _|     | || |   .' ___  |  | |\n",
      "| |___|___|___| |___| | | |  / .'   \\_|  | || |    / /\\ \\    | || |    | |       | || |  / .'   \\_|  | |\n",
      "| | 4 | 5 | 6 | | - | | | |  | |         | || |   / ____ \\   | || |    | |   _   | || |  | |         | |\n",
      "| |___|___|___| |___| | | |  \\ `.___.'\\  | || | _/ /    \\ \\_ | || |   _| |__/ |  | || |  \\ `.___.'\\  | |\n",
      "| | 1 | 2 | 3 | | x | | | |   `._____.'  | || ||____|  |____|| || |  |________|  | || |   `._____.'  | |\n",
      "| |___|___|___| |___| | | |              | || |              | || |              | || |              | |\n",
      "| | . | 0 | = | | / | | | '--------------' || '--------------' || '--------------' || '--------------' |\n",
      "| |___|___|___| |___| |  '----------------'  '----------------'  '----------------'  '----------------' \n",
      "|_____________________|\n",
      "\n"
     ]
    }
   ],
   "source": [
    "import art\n",
    "from IPython.display import clear_output\n",
    "\n",
    "# addition function\n",
    "def addition(number1, number2):\n",
    "    return number1 + number2\n",
    "\n",
    "# subtraction function\n",
    "def subtraction(number1, number2):\n",
    "    return number1 - number2\n",
    "\n",
    "# multiplication function\n",
    "def multiplication(number1, number2):\n",
    "    return number1 * number2\n",
    "\n",
    "# division function\n",
    "def division(number1, number2):\n",
    "    return number1 / number2\n",
    "\n",
    "# define the operations\n",
    "operations = {\n",
    "    \"+\": addition,\n",
    "    \"-\": subtraction,\n",
    "    \"*\": multiplication,\n",
    "    \"/\": division,\n",
    "}\n",
    "\n",
    "# define the calculator function\n",
    "def calculator():\n",
    "    print(art.logo)\n",
    "    number1 = float(input(\"Enter the first number: \"))\n",
    "\n",
    "    # loop through the operations\n",
    "    for symbol in operations:\n",
    "        print(symbol)\n",
    "\n",
    "    # set initial value of user choice\n",
    "    continue_calc = True\n",
    "    user_choice = \"\"\n",
    "\n",
    "    # continue looping until user choose 'n'\n",
    "    while continue_calc:\n",
    "        operation = input(\"Choose an operation to perform: \")\n",
    "        new_number = float(input(\"Enter the next number: \"))\n",
    "\n",
    "        # call the function for the chosen operation \n",
    "        answer = operations[operation](number1, new_number)\n",
    "\n",
    "        # display the result\n",
    "        print(f\"{number1} {operation} {new_number} = {answer}\")\n",
    "        print()\n",
    "\n",
    "        # ask user their next step\n",
    "        user_choice = input(\"Enter 'y' to perform another operation on the current answer, \\n'n' to start a new calculation, or 'off' to turn off the calculator: \").lower()\n",
    "        print()\n",
    "\n",
    "        if user_choice == \"n\":\n",
    "            continue_calc = False\n",
    "            clear_output(wait=False) # clear the console\n",
    "            calculator() # perform recursion if user wants to start a new calculation\n",
    "        elif user_choice == \"off\":\n",
    "            continue_calc = False\n",
    "            clear_output(wait=False) # clear the console\n",
    "            print(art.logo)\n",
    "        else:\n",
    "            # assign the current answer to the first number \n",
    "            number1 = answer\n",
    "\n",
    "# call the calculator function\n",
    "calculator()"
   ]
  }
 ],
 "metadata": {
  "kernelspec": {
   "display_name": "Python 3 (ipykernel)",
   "language": "python",
   "name": "python3"
  },
  "language_info": {
   "codemirror_mode": {
    "name": "ipython",
    "version": 3
   },
   "file_extension": ".py",
   "mimetype": "text/x-python",
   "name": "python",
   "nbconvert_exporter": "python",
   "pygments_lexer": "ipython3",
   "version": "3.9.13"
  }
 },
 "nbformat": 4,
 "nbformat_minor": 5
}
