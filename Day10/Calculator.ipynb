{
 "cells": [
  {
   "cell_type": "markdown",
   "id": "3566c18b",
   "metadata": {},
   "source": [
    "## Day 10 Project - Calculator"
   ]
  },
  {
   "cell_type": "code",
   "execution_count": 1,
   "id": "e5d3a10b",
   "metadata": {},
   "outputs": [
    {
     "name": "stdout",
     "output_type": "stream",
     "text": [
      "\n",
      " _____________________\n",
      "|  _________________  |\n",
      "| | Pythonista   0. | |  .----------------.  .----------------.  .----------------.  .----------------. \n",
      "| |_________________| | | .--------------. || .--------------. || .--------------. || .--------------. |\n",
      "|  ___ ___ ___   ___  | | |     ______   | || |      __      | || |   _____      | || |     ______   | |\n",
      "| | 7 | 8 | 9 | | + | | | |   .' ___  |  | || |     /  \\     | || |  |_   _|     | || |   .' ___  |  | |\n",
      "| |___|___|___| |___| | | |  / .'   \\_|  | || |    / /\\ \\    | || |    | |       | || |  / .'   \\_|  | |\n",
      "| | 4 | 5 | 6 | | - | | | |  | |         | || |   / ____ \\   | || |    | |   _   | || |  | |         | |\n",
      "| |___|___|___| |___| | | |  \\ `.___.'\\  | || | _/ /    \\ \\_ | || |   _| |__/ |  | || |  \\ `.___.'\\  | |\n",
      "| | 1 | 2 | 3 | | x | | | |   `._____.'  | || ||____|  |____|| || |  |________|  | || |   `._____.'  | |\n",
      "| |___|___|___| |___| | | |              | || |              | || |              | || |              | |\n",
      "| | . | 0 | = | | / | | | '--------------' || '--------------' || '--------------' || '--------------' |\n",
      "| |___|___|___| |___| |  '----------------'  '----------------'  '----------------'  '----------------' \n",
      "|_____________________|\n",
      "\n",
      "Enter the first number: 5\n",
      "+\n",
      "-\n",
      "*\n",
      "/\n",
      "Choose an operation to perform: *\n",
      "Enter the next number: 6\n",
      "5 * 6 = 30\n",
      "\n",
      "Enter 'y' to perform another operation on the current answer, \n",
      "or 'n' to exit the calculator: y\n",
      "\n",
      "Choose an operation to perform: /\n",
      "Enter the next number: 2\n",
      "30 / 2 = 15.0\n",
      "\n",
      "Enter 'y' to perform another operation on the current answer, \n",
      "or 'n' to exit the calculator: n\n",
      "\n"
     ]
    }
   ],
   "source": [
    "import art\n",
    "\n",
    "print(art.logo)\n",
    "\n",
    "# addition function\n",
    "def addition(number1, number2):\n",
    "    return number1 + number2\n",
    "\n",
    "# subtraction function\n",
    "def subtraction(number1, number2):\n",
    "    return number1 - number2\n",
    "\n",
    "# multiplication function\n",
    "def multiplication(number1, number2):\n",
    "    return number1 * number2\n",
    "\n",
    "# division function\n",
    "def division(number1, number2):\n",
    "    return number1 / number2\n",
    "\n",
    "operations = {\n",
    "    \"+\": addition,\n",
    "    \"-\": subtraction,\n",
    "    \"*\": multiplication,\n",
    "    \"/\": division,\n",
    "}\n",
    "\n",
    "number1 = int(input(\"Enter the first number: \"))\n",
    "\n",
    "for symbol in operations:\n",
    "    print(symbol)\n",
    "\n",
    "continue_calc = \"y\"\n",
    "\n",
    "while continue_calc == \"y\":\n",
    "    operation = input(\"Choose an operation to perform: \")\n",
    "    new_number = int(input(\"Enter the next number: \"))\n",
    "    \n",
    "    answer = operations[operation](number1, new_number)\n",
    "    print(f\"{number1} {operation} {new_number} = {answer}\")\n",
    "    print()\n",
    "\n",
    "    continue_calc = input(\"Enter 'y' to perform another operation on the current answer, \\nor 'n' to exit the calculator: \")\n",
    "    print()\n",
    "    number1 = answer"
   ]
  }
 ],
 "metadata": {
  "kernelspec": {
   "display_name": "Python 3 (ipykernel)",
   "language": "python",
   "name": "python3"
  },
  "language_info": {
   "codemirror_mode": {
    "name": "ipython",
    "version": 3
   },
   "file_extension": ".py",
   "mimetype": "text/x-python",
   "name": "python",
   "nbconvert_exporter": "python",
   "pygments_lexer": "ipython3",
   "version": "3.9.13"
  }
 },
 "nbformat": 4,
 "nbformat_minor": 5
}
