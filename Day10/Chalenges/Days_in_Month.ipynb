{
 "cells": [
  {
   "cell_type": "markdown",
   "id": "5608347e",
   "metadata": {},
   "source": [
    "## Challenge - Days in Month\n",
    "\n",
    "### Instructions\n",
    "\n",
    "In the starting code, you'll find the solution from the Leap Year challenge. First, convert this function ```is_leap()``` so that instead of printing \"Leap year.\" or \"Not leap year.\" it should **return** ```True``` if it is a leap year and **return** ```False``` if it is not a leap year.\n",
    "\n",
    "You are then going to create a function called ```days_in_month()``` which will take a **year** and a **month** as inputs, e.g.\n",
    "\n",
    "```days_in_month(year=2022, month=2)```\n",
    "\n",
    "And it will use this information to work out the **number of days in the month**, then **return** that as the **output, e.g.:**\n",
    "\n",
    "```28```\n",
    "\n",
    "The List ```month_days``` contains the number of days in a month from January to December for a non-leap year. A leap year has 29 days in February."
   ]
  },
  {
   "cell_type": "code",
   "execution_count": 1,
   "id": "508c153b",
   "metadata": {},
   "outputs": [
    {
     "name": "stdout",
     "output_type": "stream",
     "text": [
      "Enter a year: 2016\n",
      "Enter a month: 2\n",
      "29\n"
     ]
    }
   ],
   "source": [
    "def is_leap(year):\n",
    "    if year % 4 == 0:\n",
    "        if year % 100 == 0:\n",
    "            if year % 400 == 0:\n",
    "                return True\n",
    "            else:\n",
    "                return False\n",
    "        else:\n",
    "            return True\n",
    "    else:\n",
    "        return False\n",
    "\n",
    "def days_in_month(year, month):\n",
    "    month_days = [31, 28, 31, 30, 31, 30, 31, 31, 30, 31, 30, 31]\n",
    "    num_of_days = 0 \n",
    "\n",
    "    if is_leap(year) and month == 2:\n",
    "        num_of_days = month_days[month-1] + 1\n",
    "    else:\n",
    "        num_of_days = month_days[month-1]\n",
    "\n",
    "    return num_of_days\n",
    "  \n",
    "#🚨 Do NOT change any of the code below \n",
    "year = int(input(\"Enter a year: \"))\n",
    "month = int(input(\"Enter a month: \"))\n",
    "days = days_in_month(year, month)\n",
    "print(days)"
   ]
  }
 ],
 "metadata": {
  "kernelspec": {
   "display_name": "Python 3 (ipykernel)",
   "language": "python",
   "name": "python3"
  },
  "language_info": {
   "codemirror_mode": {
    "name": "ipython",
    "version": 3
   },
   "file_extension": ".py",
   "mimetype": "text/x-python",
   "name": "python",
   "nbconvert_exporter": "python",
   "pygments_lexer": "ipython3",
   "version": "3.9.13"
  }
 },
 "nbformat": 4,
 "nbformat_minor": 5
}
