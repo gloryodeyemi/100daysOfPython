{
 "cells": [
  {
   "cell_type": "markdown",
   "id": "3566c18b",
   "metadata": {},
   "source": [
    "## Day 10 - Beginner - Functions with Outputs"
   ]
  },
  {
   "cell_type": "code",
   "execution_count": 1,
   "id": "1c2068aa",
   "metadata": {},
   "outputs": [
    {
     "name": "stdout",
     "output_type": "stream",
     "text": [
      "Enter your first name: glory\n",
      "Enter your last name: odeyemi\n",
      "Glory Odeyemi\n"
     ]
    }
   ],
   "source": [
    "#  Functions with outputs\n",
    "def format_name(f_name, l_name):\n",
    "    full_name = (f\"{f_name} {l_name}\").title()\n",
    "    return full_name\n",
    "\n",
    "user_fname = input(\"Enter your first name: \")\n",
    "user_lname = input(\"Enter your last name: \")\n",
    "\n",
    "formatted_name = format_name(user_fname, user_lname)\n",
    "print(formatted_name)"
   ]
  }
 ],
 "metadata": {
  "kernelspec": {
   "display_name": "Python 3 (ipykernel)",
   "language": "python",
   "name": "python3"
  },
  "language_info": {
   "codemirror_mode": {
    "name": "ipython",
    "version": 3
   },
   "file_extension": ".py",
   "mimetype": "text/x-python",
   "name": "python",
   "nbconvert_exporter": "python",
   "pygments_lexer": "ipython3",
   "version": "3.9.13"
  }
 },
 "nbformat": 4,
 "nbformat_minor": 5
}
