{
 "cells": [
  {
   "cell_type": "markdown",
   "id": "d0b184a6",
   "metadata": {},
   "source": [
    "## Day 8 Project - Ceasar Cipher"
   ]
  },
  {
   "cell_type": "markdown",
   "id": "2c40b627",
   "metadata": {},
   "source": [
    "**Step 1 - Encryption**"
   ]
  },
  {
   "cell_type": "code",
   "execution_count": 2,
   "id": "848787e9",
   "metadata": {},
   "outputs": [
    {
     "name": "stdout",
     "output_type": "stream",
     "text": [
      "Type 'encode' to encrypt, type 'decode' to decrypt:\n",
      "encode\n",
      "Type your message:\n",
      "civilization\n",
      "Type the shift number:\n",
      "5\n",
      "The encoded text is hnanqnefynts\n"
     ]
    }
   ],
   "source": [
    "# My solution\n",
    "alphabet = ['a', 'b', 'c', 'd', 'e', 'f', 'g', 'h', 'i', 'j', 'k', 'l', 'm', 'n', 'o', 'p', 'q', 'r', 's', 't', 'u', 'v', 'w', 'x', 'y', 'z']\n",
    "\n",
    "direction = input(\"Type 'encode' to encrypt, type 'decode' to decrypt:\\n\")\n",
    "text = input(\"Type your message:\\n\").lower()\n",
    "shift = int(input(\"Type the shift number:\\n\"))\n",
    "\n",
    "#TODO-1: Create a function called 'encrypt' that takes the 'text' and 'shift' as inputs.\n",
    "def encrypt(text, shift):\n",
    "    #TODO-2: Inside the 'encrypt' function, shift each letter of the 'text' forwards in the alphabet by the shift amount and print the encrypted text.  \n",
    "    #e.g. \n",
    "    #plain_text = \"hello\"\n",
    "    #shift = 5\n",
    "    #cipher_text = \"mjqqt\"\n",
    "    #print output: \"The encoded text is mjqqt\"\n",
    "    \n",
    "    cipher_text = \"\"\n",
    "    index_length = len(alphabet) - 1\n",
    "    index_position = 0\n",
    "    \n",
    "    for letter in text:\n",
    "        \n",
    "        ##HINT: How do you get the index of an item in a list:\n",
    "        #https://stackoverflow.com/questions/176918/finding-the-index-of-an-item-in-a-list\n",
    "        \n",
    "        letter_index = alphabet.index(letter)\n",
    "        new_index = letter_index + shift\n",
    "\n",
    "        ##🐛Bug alert: What happens if you try to encode the word 'civilization'?🐛\n",
    "        \n",
    "        if new_index > index_length:\n",
    "            index_position = (new_index - index_length) - 1\n",
    "        else:\n",
    "            index_position = new_index\n",
    "        cipher_text += alphabet[index_position]\n",
    "\n",
    "    print(f\"The encoded text is {cipher_text}\")\n",
    "\n",
    "#TODO-3: Call the encrypt function and pass in the user inputs. You should be able to test the code and encrypt a message. \n",
    "encrypt(text, shift)"
   ]
  },
  {
   "cell_type": "code",
   "execution_count": 3,
   "id": "32194960",
   "metadata": {},
   "outputs": [],
   "source": [
    "# OR duplicate the alphabet\n",
    "alphabet = ['a', 'b', 'c', 'd', 'e', 'f', 'g', 'h', 'i', 'j', 'k', 'l', 'm', 'n', 'o', 'p', 'q', 'r', 's', 't', 'u', 'v', 'w', 'x', 'y', 'z', 'a', 'b', 'c', 'd', 'e', 'f', 'g', 'h', 'i', 'j', 'k', 'l', 'm', 'n', 'o', 'p', 'q', 'r', 's', 't', 'u', 'v', 'w', 'x', 'y', 'z']"
   ]
  }
 ],
 "metadata": {
  "kernelspec": {
   "display_name": "Python 3 (ipykernel)",
   "language": "python",
   "name": "python3"
  },
  "language_info": {
   "codemirror_mode": {
    "name": "ipython",
    "version": 3
   },
   "file_extension": ".py",
   "mimetype": "text/x-python",
   "name": "python",
   "nbconvert_exporter": "python",
   "pygments_lexer": "ipython3",
   "version": "3.9.13"
  }
 },
 "nbformat": 4,
 "nbformat_minor": 5
}
