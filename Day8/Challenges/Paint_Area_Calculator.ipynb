{
 "cells": [
  {
   "cell_type": "markdown",
   "id": "5b4a6425",
   "metadata": {},
   "source": [
    "## Challenge: Paint Area Calculator\n",
    "\n",
    "### Instructions\n",
    "You are painting a wall. The instructions on the paint can says that **1 can of paint can cover 5 square meters** of wall. Given a random height and width of wall, calculate how many cans of paint you'll need to buy.\n",
    "\n",
    "number of cans = (wall height x wall width) ÷ coverage per can.\n",
    "\n",
    "e.g. Height = 2, Width = 4, Coverage = 5\n",
    "\n",
    "number of cans = (2 * 4) / 5\n",
    "\n",
    "                = 1.6\n",
    "\n",
    "But because you can't buy 0.6 of a can of paint, the **result should be rounded up** to **2** cans.\n",
    "\n",
    "**IMPORTANT:** Notice the name of the function and parameters must match those on line 13 for the code to work.\n",
    "\n",
    "### Example Input\n",
    "\n",
    "```\n",
    "test_h = 3\n",
    "test_w = 9```\n",
    "\n",
    "### Example Output\n",
    "\n",
    "```You'll need 6 cans of paint.```"
   ]
  },
  {
   "cell_type": "code",
   "execution_count": 2,
   "id": "d8a5a199",
   "metadata": {},
   "outputs": [
    {
     "name": "stdout",
     "output_type": "stream",
     "text": [
      "Height of wall: 7\n",
      "Width of wall: 13\n",
      "You'll need 19 cans of paint.\n"
     ]
    }
   ],
   "source": [
    "#Write your code below this line 👇\n",
    "import math\n",
    "\n",
    "def paint_calc(height, width, cover):\n",
    "    number_of_cans = math.ceil((height * width) / cover)\n",
    "    print(f\"You'll need {number_of_cans} cans of paint.\")\n",
    "\n",
    "#Write your code above this line 👆\n",
    "# Define a function called paint_calc() so that the code below works.   \n",
    "\n",
    "# 🚨 Don't change the code below 👇\n",
    "test_h = int(input(\"Height of wall: \"))\n",
    "test_w = int(input(\"Width of wall: \"))\n",
    "coverage = 5\n",
    "paint_calc(height=test_h, width=test_w, cover=coverage)"
   ]
  }
 ],
 "metadata": {
  "kernelspec": {
   "display_name": "Python 3 (ipykernel)",
   "language": "python",
   "name": "python3"
  },
  "language_info": {
   "codemirror_mode": {
    "name": "ipython",
    "version": 3
   },
   "file_extension": ".py",
   "mimetype": "text/x-python",
   "name": "python",
   "nbconvert_exporter": "python",
   "pygments_lexer": "ipython3",
   "version": "3.9.13"
  }
 },
 "nbformat": 4,
 "nbformat_minor": 5
}
