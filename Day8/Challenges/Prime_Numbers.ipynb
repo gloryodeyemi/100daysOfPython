{
 "cells": [
  {
   "cell_type": "markdown",
   "id": "5b4a6425",
   "metadata": {},
   "source": [
    "## Challenge: Prime Numbers\n",
    "\n",
    "### Instructions\n",
    "Prime numbers are numbers that can only be cleanly divided by themselves and 1.\n",
    "\n",
    "https://en.wikipedia.org/wiki/Prime_number\n",
    "\n",
    "**You need to write a function** that checks whether if the number passed into it is a prime number or not.\n",
    "\n",
    "e.g. 2 is a prime number because it's only divisible by 1 and 2.\n",
    "\n",
    "But 4 is not a prime number because you can divide it by 1, 2 or 4.\n",
    "\n",
    "### Example Input 1\n",
    "\n",
    "```73```\n",
    "\n",
    "### Example Output 1\n",
    "\n",
    "```It's a prime number.```\n",
    "\n",
    "### Example Input 2\n",
    "\n",
    "```75```\n",
    "\n",
    "### Example Output 2\n",
    "\n",
    "```It's not a prime number.```"
   ]
  },
  {
   "cell_type": "code",
   "execution_count": 4,
   "id": "d8a5a199",
   "metadata": {},
   "outputs": [
    {
     "name": "stdout",
     "output_type": "stream",
     "text": [
      "Check this number: 97\n",
      "It's a prime number.\n"
     ]
    }
   ],
   "source": [
    "# My solution\n",
    "\n",
    "#Write your code below this line 👇\n",
    "def prime_checker(number):\n",
    "    count = 0\n",
    "    for num in range(1, number):\n",
    "        if number % num == 0:\n",
    "            count += 1\n",
    "    if count > 1:\n",
    "        print(\"It's not a prime number.\")\n",
    "    else:\n",
    "        print(\"It's a prime number.\")\n",
    "\n",
    "#Write your code above this line 👆\n",
    "    \n",
    "#Do NOT change any of the code below👇\n",
    "n = int(input(\"Check this number: \"))\n",
    "prime_checker(number=n)"
   ]
  },
  {
   "cell_type": "code",
   "execution_count": 3,
   "id": "e62ea121",
   "metadata": {},
   "outputs": [
    {
     "name": "stdout",
     "output_type": "stream",
     "text": [
      "Check this number: 77\n",
      "It's not a prime number.\n"
     ]
    }
   ],
   "source": [
    "# Another solution\n",
    "\n",
    "#Write your code below this line 👇\n",
    "def prime_checker(number):\n",
    "    is_prime = True\n",
    "    for i in range(2, number):\n",
    "        if number % i == 0:\n",
    "            is_prime = False\n",
    "    if is_prime:\n",
    "        print(\"It's a prime number.\")\n",
    "    else:\n",
    "        print(\"It's not a prime number.\")\n",
    "\n",
    "#Write your code above this line 👆\n",
    "    \n",
    "#Do NOT change any of the code below👇\n",
    "n = int(input(\"Check this number: \"))\n",
    "prime_checker(number=n)"
   ]
  }
 ],
 "metadata": {
  "kernelspec": {
   "display_name": "Python 3 (ipykernel)",
   "language": "python",
   "name": "python3"
  },
  "language_info": {
   "codemirror_mode": {
    "name": "ipython",
    "version": 3
   },
   "file_extension": ".py",
   "mimetype": "text/x-python",
   "name": "python",
   "nbconvert_exporter": "python",
   "pygments_lexer": "ipython3",
   "version": "3.9.13"
  }
 },
 "nbformat": 4,
 "nbformat_minor": 5
}
