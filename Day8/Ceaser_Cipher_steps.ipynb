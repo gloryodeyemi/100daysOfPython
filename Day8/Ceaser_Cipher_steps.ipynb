{
 "cells": [
  {
   "cell_type": "markdown",
   "id": "d0b184a6",
   "metadata": {},
   "source": [
    "## Day 8 Project - Ceasar Cipher"
   ]
  },
  {
   "cell_type": "markdown",
   "id": "db7827f0",
   "metadata": {},
   "source": [
    "**Step 1 - Encryption**"
   ]
  },
  {
   "cell_type": "code",
   "execution_count": 2,
   "id": "6569b4ce",
   "metadata": {},
   "outputs": [
    {
     "name": "stdout",
     "output_type": "stream",
     "text": [
      "Type 'encode' to encrypt, type 'decode' to decrypt:\n",
      "encode\n",
      "Type your message:\n",
      "civilization\n",
      "Type the shift number:\n",
      "5\n",
      "The encoded text is hnanqnefynts\n"
     ]
    }
   ],
   "source": [
    "# My solution\n",
    "alphabet = ['a', 'b', 'c', 'd', 'e', 'f', 'g', 'h', 'i', 'j', 'k', 'l', 'm', 'n', 'o', 'p', 'q', 'r', 's', 't', 'u', 'v', 'w', 'x', 'y', 'z']\n",
    "\n",
    "direction = input(\"Type 'encode' to encrypt, type 'decode' to decrypt:\\n\")\n",
    "text = input(\"Type your message:\\n\").lower()\n",
    "shift = int(input(\"Type the shift number:\\n\"))\n",
    "\n",
    "#TODO-1: Create a function called 'encrypt' that takes the 'text' and 'shift' as inputs.\n",
    "def encrypt(text, shift):\n",
    "    #TODO-2: Inside the 'encrypt' function, shift each letter of the 'text' forwards in the alphabet by the shift amount and print the encrypted text.  \n",
    "    #e.g. \n",
    "    #plain_text = \"hello\"\n",
    "    #shift = 5\n",
    "    #cipher_text = \"mjqqt\"\n",
    "    #print output: \"The encoded text is mjqqt\"\n",
    "    \n",
    "    cipher_text = \"\"\n",
    "    index_length = len(alphabet) - 1\n",
    "    index_position = 0\n",
    "    \n",
    "    for letter in text:\n",
    "        \n",
    "        ##HINT: How do you get the index of an item in a list:\n",
    "        #https://stackoverflow.com/questions/176918/finding-the-index-of-an-item-in-a-list\n",
    "        \n",
    "        letter_index = alphabet.index(letter)\n",
    "        new_index = letter_index + shift\n",
    "\n",
    "        ##🐛Bug alert: What happens if you try to encode the word 'civilization'?🐛\n",
    "        \n",
    "        if new_index > index_length:\n",
    "            index_position = (new_index - index_length) - 1\n",
    "        else:\n",
    "            index_position = new_index\n",
    "        cipher_text += alphabet[index_position]\n",
    "\n",
    "    print(f\"The encoded text is {cipher_text}\")\n",
    "\n",
    "#TODO-3: Call the encrypt function and pass in the user inputs. You should be able to test the code and encrypt a message. \n",
    "encrypt(text, shift)"
   ]
  },
  {
   "cell_type": "code",
   "execution_count": 3,
   "id": "b6559dc4",
   "metadata": {},
   "outputs": [],
   "source": [
    "# OR duplicate the alphabet\n",
    "alphabet = ['a', 'b', 'c', 'd', 'e', 'f', 'g', 'h', 'i', 'j', 'k', 'l', 'm', 'n', 'o', 'p', 'q', 'r', 's', 't', 'u', 'v', 'w', 'x', 'y', 'z', 'a', 'b', 'c', 'd', 'e', 'f', 'g', 'h', 'i', 'j', 'k', 'l', 'm', 'n', 'o', 'p', 'q', 'r', 's', 't', 'u', 'v', 'w', 'x', 'y', 'z']"
   ]
  },
  {
   "cell_type": "markdown",
   "id": "6d74a3b7",
   "metadata": {},
   "source": [
    "**Step 2 - Decryption**"
   ]
  },
  {
   "cell_type": "code",
   "execution_count": 4,
   "id": "7d52e810",
   "metadata": {},
   "outputs": [
    {
     "name": "stdout",
     "output_type": "stream",
     "text": [
      "Type 'encode' to encrypt, type 'decode' to decrypt:\n",
      "decode\n",
      "Type your message:\n",
      "hnanqnefynts\n",
      "Type the shift number:\n",
      "5\n",
      "The decoded text is civilization\n"
     ]
    }
   ],
   "source": [
    "alphabet = ['a', 'b', 'c', 'd', 'e', 'f', 'g', 'h', 'i', 'j', 'k', 'l', 'm', 'n', 'o', 'p', 'q', 'r', 's', 't', 'u', 'v', 'w', 'x', 'y', 'z', 'a', 'b', 'c', 'd', 'e', 'f', 'g', 'h', 'i', 'j', 'k', 'l', 'm', 'n', 'o', 'p', 'q', 'r', 's', 't', 'u', 'v', 'w', 'x', 'y', 'z']\n",
    "\n",
    "direction = input(\"Type 'encode' to encrypt, type 'decode' to decrypt:\\n\")\n",
    "text = input(\"Type your message:\\n\").lower()\n",
    "shift = int(input(\"Type the shift number:\\n\"))\n",
    "\n",
    "def encrypt(plain_text, shift_amount):\n",
    "    cipher_text = \"\"\n",
    "    for letter in plain_text:\n",
    "        position = alphabet.index(letter)\n",
    "        new_position = position + shift_amount\n",
    "        cipher_text += alphabet[new_position]\n",
    "    print(f\"The encoded text is {cipher_text}\")\n",
    "\n",
    "#TODO-1: Create a different function called 'decrypt' that takes the 'text' and 'shift' as inputs.\n",
    "\n",
    "def decrypt(text, shift):\n",
    "  #TODO-2: Inside the 'decrypt' function, shift each letter of the 'text' *backwards* in the alphabet by the shift amount and print the decrypted text.  \n",
    "  #e.g. \n",
    "  #cipher_text = \"mjqqt\"\n",
    "  #shift = 5\n",
    "  #plain_text = \"hello\"\n",
    "  #print output: \"The decoded text is hello\"\n",
    "    \n",
    "    plain_text = \"\"\n",
    "    for letter in text:\n",
    "        position = alphabet.index(letter)\n",
    "        new_position = position - shift\n",
    "        plain_text += alphabet[new_position]\n",
    "    print(f\"The decoded text is {plain_text}\")\n",
    "    \n",
    "\n",
    "#TODO-3: Check if the user wanted to encrypt or decrypt the message by checking the 'direction' variable. Then call the correct function based on that 'drection' variable. You should be able to test the code to encrypt *AND* decrypt a message.\n",
    "if direction == 'encode':\n",
    "    encrypt(plain_text=text, shift_amount=shift)\n",
    "elif direction == 'decode':\n",
    "    decrypt(text, shift)\n",
    "else:\n",
    "    print(\"Invalid input!\")"
   ]
  },
  {
   "cell_type": "markdown",
   "id": "67e91a75",
   "metadata": {},
   "source": [
    "**Step 3 - Reorganizing**"
   ]
  },
  {
   "cell_type": "code",
   "execution_count": 5,
   "id": "a59bca3f",
   "metadata": {},
   "outputs": [
    {
     "name": "stdout",
     "output_type": "stream",
     "text": [
      "Type 'encode' to encrypt, type 'decode' to decrypt:\n",
      "encode\n",
      "Type your message:\n",
      "zulu\n",
      "Type the shift number:\n",
      "5\n",
      "The encoded text is ezqz\n"
     ]
    }
   ],
   "source": [
    "alphabet = ['a', 'b', 'c', 'd', 'e', 'f', 'g', 'h', 'i', 'j', 'k', 'l', 'm', 'n', 'o', 'p', 'q', 'r', 's', 't', 'u', 'v', 'w', 'x', 'y', 'z', 'a', 'b', 'c', 'd', 'e', 'f', 'g', 'h', 'i', 'j', 'k', 'l', 'm', 'n', 'o', 'p', 'q', 'r', 's', 't', 'u', 'v', 'w', 'x', 'y', 'z']\n",
    "\n",
    "direction = input(\"Type 'encode' to encrypt, type 'decode' to decrypt:\\n\")\n",
    "text = input(\"Type your message:\\n\").lower()\n",
    "shift = int(input(\"Type the shift number:\\n\"))\n",
    "\n",
    "#TODO-1: Combine the encrypt() and decrypt() functions into a single function called caesar(). \n",
    "def ceaser(text, shift, direction):\n",
    "    new_text = \"\"\n",
    "    for letter in text:\n",
    "        position = alphabet.index(letter)\n",
    "        if direction == 'encode':\n",
    "            new_position = position + shift\n",
    "        elif direction == 'decode':\n",
    "            new_position = position - shift\n",
    "        # else:\n",
    "        #     print(\"Invalid input\")\n",
    "        #     break\n",
    "        new_text += alphabet[new_position]\n",
    "    print(f\"The {direction}d text is {new_text}\")\n",
    "\n",
    "#TODO-2: Call the caesar() function, passing over the 'text', 'shift' and 'direction' values.\n",
    "ceaser(text, shift, direction)"
   ]
  },
  {
   "cell_type": "code",
   "execution_count": 7,
   "id": "3938984d",
   "metadata": {},
   "outputs": [
    {
     "name": "stdout",
     "output_type": "stream",
     "text": [
      "The encoded text is ezqz\n"
     ]
    }
   ],
   "source": [
    "# or \n",
    "def ceaser(text, shift, direction):\n",
    "    new_text = \"\"\n",
    "    if direction == 'decode':\n",
    "        shift *= -1\n",
    "    for letter in text:\n",
    "        position = alphabet.index(letter)\n",
    "        new_position = position + shift\n",
    "        new_text += alphabet[new_position]\n",
    "    print(f\"The {direction}d text is {new_text}\")\n",
    "\n",
    "#TODO-2: Call the caesar() function, passing over the 'text', 'shift' and 'direction' values.\n",
    "ceaser(text, shift, direction)"
   ]
  },
  {
   "cell_type": "markdown",
   "id": "8775cbcd",
   "metadata": {},
   "source": [
    "**Step 4: User Experience Improvements & Final Touches**"
   ]
  },
  {
   "cell_type": "code",
   "execution_count": 9,
   "id": "6a50cbd4",
   "metadata": {},
   "outputs": [
    {
     "name": "stdout",
     "output_type": "stream",
     "text": [
      "           \n",
      " ,adPPYba, ,adPPYYba,  ,adPPYba, ,adPPYba, ,adPPYYba, 8b,dPPYba,  \n",
      "a8\"     \"\" \"\"     `Y8 a8P_____88 I8[    \"\" \"\"     `Y8 88P'   \"Y8  \n",
      "8b         ,adPPPPP88 8PP\"  `\"Y8ba,  ,adPPPPP88 88          \n",
      "\"8a,   ,aa 88,    ,88 \"8b,   ,aa aa    ]8I 88,    ,88 88          \n",
      " `\"Ybbd8\"' `\"8bbdP\"Y8  `\"Ybbd8\"' `\"YbbdP\"' `\"8bbdP\"Y8 88   \n",
      "            88             88                                 \n",
      "           \"\"             88                                 \n",
      "                          88                                 \n",
      " ,adPPYba, 88 8b,dPPYba,  88,dPPYba,   ,adPPYba, 8b,dPPYba,  \n",
      "a8\"     \"\" 88 88P'    \"8a 88P'    \"8a a8P_____88 88P'   \"Y8  \n",
      "8b         88 88       d8 88       88 8PP\" 88          \n",
      "\"8a,   ,aa 88 88b,   ,a8\" 88       88 \"8b,   ,aa 88          \n",
      " `\"Ybbd8\"' 88 88`YbbdP\"'  88       88  `\"Ybbd8\"' 88          \n",
      "              88                                             \n",
      "              88           \n",
      "\n",
      "Type 'encode' to encrypt, type 'decode' to decrypt:\n",
      "encode\n",
      "Type your message:\n",
      "My name is Glory and I am 24 years old.\n",
      "Type the shift number:\n",
      "55\n",
      "Here's the encoded result: oa pcog ku inqta cpf k co 24 agctu qnf.\n",
      "\n",
      "Do you want to encode or decode again? (yes or no): yes\n",
      "\n",
      "Type 'encode' to encrypt, type 'decode' to decrypt:\n",
      "decode\n",
      "Type your message:\n",
      "oa pcog ku inqta cpf k co 24 agctu qnf.\n",
      "Type the shift number:\n",
      "55\n",
      "Here's the decoded result: my name is glory and i am 24 years old.\n",
      "\n",
      "Do you want to encode or decode again? (yes or no): no\n",
      "\n"
     ]
    }
   ],
   "source": [
    "alphabet = ['a', 'b', 'c', 'd', 'e', 'f', 'g', 'h', 'i', 'j', 'k', 'l', 'm', 'n', 'o', 'p', 'q', 'r', 's', 't', 'u', 'v', 'w', 'x', 'y', 'z', 'a', 'b', 'c', 'd', 'e', 'f', 'g', 'h', 'i', 'j', 'k', 'l', 'm', 'n', 'o', 'p', 'q', 'r', 's', 't', 'u', 'v', 'w', 'x', 'y', 'z']\n",
    "\n",
    "def caesar(start_text, shift_amount, cipher_direction):\n",
    "    end_text = \"\"\n",
    "    if cipher_direction == \"decode\":\n",
    "        shift_amount *= -1\n",
    "        \n",
    "    for char in start_text:\n",
    "    #TODO-3: What happens if the user enters a number/symbol/space?\n",
    "    #Can you fix the code to keep the number/symbol/space when the text is encoded/decoded?\n",
    "    #e.g. start_text = \"meet me at 3\"\n",
    "    #end_text = \"•••• •• •• 3\"\n",
    "    \n",
    "        if char not in alphabet:\n",
    "            end_text += char\n",
    "        else:      \n",
    "            position = alphabet.index(char)\n",
    "            new_position = position + shift_amount\n",
    "            end_text += alphabet[new_position]\n",
    "    \n",
    "    print(f\"Here's the {cipher_direction}d result: {end_text}\\n\")\n",
    "\n",
    "#TODO-1: Import and print the logo from art.py when the program starts.\n",
    "import art\n",
    "print(art.logo)\n",
    "\n",
    "#TODO-4: Can you figure out a way to ask the user if they want to restart the cipher program?\n",
    "#e.g. Type 'yes' if you want to go again. Otherwise type 'no'.\n",
    "user_choice = \"yes\"\n",
    "\n",
    "#If they type 'yes' then ask them for the direction/text/shift again and call the caesar() function again?\n",
    "#Hint: Try creating a while loop that continues to execute the program if the user types 'yes'. \n",
    "while user_choice == 'yes':\n",
    "    direction = input(\"Type 'encode' to encrypt, type 'decode' to decrypt:\\n\")\n",
    "    text = input(\"Type your message:\\n\").lower()\n",
    "    shift = int(input(\"Type the shift number:\\n\"))\n",
    "\n",
    "#TODO-2: What if the user enters a shift that is greater than the number of letters in the alphabet?\n",
    "#Try running the program and entering a shift number of 45.\n",
    "#Add some code so that the program continues to work even if the user enters a shift number greater than 26. \n",
    "#Hint: Think about how you can use the modulus (%).\n",
    "    if shift > 26:\n",
    "        shift %= 26\n",
    "        shift -= 1\n",
    "        \n",
    "    caesar(start_text=text, shift_amount=shift, cipher_direction=direction)\n",
    "    user_choice = input(\"Do you want to encode or decode again? (yes or no): \").lower()\n",
    "    print()"
   ]
  }
 ],
 "metadata": {
  "kernelspec": {
   "display_name": "Python 3 (ipykernel)",
   "language": "python",
   "name": "python3"
  },
  "language_info": {
   "codemirror_mode": {
    "name": "ipython",
    "version": 3
   },
   "file_extension": ".py",
   "mimetype": "text/x-python",
   "name": "python",
   "nbconvert_exporter": "python",
   "pygments_lexer": "ipython3",
   "version": "3.9.13"
  }
 },
 "nbformat": 4,
 "nbformat_minor": 5
}
