{
 "cells": [
  {
   "cell_type": "markdown",
   "id": "43e8f138",
   "metadata": {},
   "source": [
    "## Day 8 - Beginner - Function Parameters & Ceasar Cipher"
   ]
  },
  {
   "cell_type": "code",
   "execution_count": 1,
   "id": "369a4032",
   "metadata": {},
   "outputs": [
    {
     "name": "stdout",
     "output_type": "stream",
     "text": [
      "Hello\n",
      "How are you doing?\n",
      "Have a nice day!\n"
     ]
    }
   ],
   "source": [
    "# Review: \n",
    "# Create a function called greet(). \n",
    "# Write 3 print statements inside the function.\n",
    "# Call the greet() function and run your code.\n",
    "\n",
    "def greet():\n",
    "    print(\"Hello\")\n",
    "    print(\"How are you doing?\")\n",
    "    print(\"Have a nice day!\")\n",
    "\n",
    "greet()"
   ]
  },
  {
   "cell_type": "code",
   "execution_count": 2,
   "id": "57386b3d",
   "metadata": {},
   "outputs": [
    {
     "name": "stdout",
     "output_type": "stream",
     "text": [
      "Enter your name: Glory\n",
      "Hello Glory\n",
      "How are you doing Glory?\n",
      "Have a nice day Glory!\n"
     ]
    }
   ],
   "source": [
    "# function with input\n",
    "def greet_with_name(name):\n",
    "    print(f\"Hello {name}\")\n",
    "    print(f\"How are you doing {name}?\")\n",
    "    print(f\"Have a nice day {name}!\")\n",
    "\n",
    "name = input(\"Enter your name: \")\n",
    "greet_with_name(name)"
   ]
  },
  {
   "cell_type": "code",
   "execution_count": 4,
   "id": "c811d671",
   "metadata": {},
   "outputs": [
    {
     "name": "stdout",
     "output_type": "stream",
     "text": [
      "Enter your location: Windsor\n",
      "Hello Glory\n",
      "What is it like in Windsor?\n",
      "\n",
      "Hello Glory\n",
      "What is it like in Windsor?\n",
      "\n"
     ]
    }
   ],
   "source": [
    "# parameter = name of the data being passed\n",
    "# argument = actual value of the data\n",
    "\n",
    "# function with more than one input\n",
    "def greet_with(name, location):\n",
    "    print(f\"Hello {name}\")\n",
    "    print(f\"What is it like in {location}?\")\n",
    "\n",
    "location = input(\"Enter your location: \")\n",
    "greet_with(name, location) # positional argument\n",
    "print()\n",
    "\n",
    "greet_with(location=location, name=name) # keyword argument\n",
    "print()"
   ]
  }
 ],
 "metadata": {
  "kernelspec": {
   "display_name": "Python 3 (ipykernel)",
   "language": "python",
   "name": "python3"
  },
  "language_info": {
   "codemirror_mode": {
    "name": "ipython",
    "version": 3
   },
   "file_extension": ".py",
   "mimetype": "text/x-python",
   "name": "python",
   "nbconvert_exporter": "python",
   "pygments_lexer": "ipython3",
   "version": "3.9.13"
  }
 },
 "nbformat": 4,
 "nbformat_minor": 5
}
