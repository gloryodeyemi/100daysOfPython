{
 "cells": [
  {
   "cell_type": "markdown",
   "id": "e0c738d8",
   "metadata": {},
   "source": [
    "## Day 8 - Beginner - Function Parameters & Ceasar Cipher"
   ]
  },
  {
   "cell_type": "code",
   "execution_count": 1,
   "id": "88ad8c95",
   "metadata": {},
   "outputs": [
    {
     "name": "stdout",
     "output_type": "stream",
     "text": [
      "Hello\n",
      "How are you doing?\n",
      "Have a nice day!\n"
     ]
    }
   ],
   "source": [
    "# Review: \n",
    "# Create a function called greet(). \n",
    "# Write 3 print statements inside the function.\n",
    "# Call the greet() function and run your code.\n",
    "\n",
    "def greet():\n",
    "    print(\"Hello\")\n",
    "    print(\"How are you doing?\")\n",
    "    print(\"Have a nice day!\")\n",
    "\n",
    "greet()"
   ]
  }
 ],
 "metadata": {
  "kernelspec": {
   "display_name": "Python 3 (ipykernel)",
   "language": "python",
   "name": "python3"
  },
  "language_info": {
   "codemirror_mode": {
    "name": "ipython",
    "version": 3
   },
   "file_extension": ".py",
   "mimetype": "text/x-python",
   "name": "python",
   "nbconvert_exporter": "python",
   "pygments_lexer": "ipython3",
   "version": "3.9.13"
  }
 },
 "nbformat": 4,
 "nbformat_minor": 5
}
