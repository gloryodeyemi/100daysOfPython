{
 "cells": [
  {
   "cell_type": "markdown",
   "id": "d0b184a6",
   "metadata": {},
   "source": [
    "## Day 8 Project - Ceasar Cipher"
   ]
  },
  {
   "cell_type": "code",
   "execution_count": 5,
   "id": "a52eddb0",
   "metadata": {},
   "outputs": [
    {
     "name": "stdout",
     "output_type": "stream",
     "text": [
      "           \n",
      " ,adPPYba, ,adPPYYba,  ,adPPYba, ,adPPYba, ,adPPYYba, 8b,dPPYba,  \n",
      "a8\"     \"\" \"\"     `Y8 a8P_____88 I8[    \"\" \"\"     `Y8 88P'   \"Y8  \n",
      "8b         ,adPPPPP88 8PP\"  `\"Y8ba,  ,adPPPPP88 88          \n",
      "\"8a,   ,aa 88,    ,88 \"8b,   ,aa aa    ]8I 88,    ,88 88          \n",
      " `\"Ybbd8\"' `\"8bbdP\"Y8  `\"Ybbd8\"' `\"YbbdP\"' `\"8bbdP\"Y8 88   \n",
      "            88             88                                 \n",
      "           \"\"             88                                 \n",
      "                          88                                 \n",
      " ,adPPYba, 88 8b,dPPYba,  88,dPPYba,   ,adPPYba, 8b,dPPYba,  \n",
      "a8\"     \"\" 88 88P'    \"8a 88P'    \"8a a8P_____88 88P'   \"Y8  \n",
      "8b         88 88       d8 88       88 8PP\" 88          \n",
      "\"8a,   ,aa 88 88b,   ,a8\" 88       88 \"8b,   ,aa 88          \n",
      " `\"Ybbd8\"' 88 88`YbbdP\"'  88       88  `\"Ybbd8\"' 88          \n",
      "              88                                             \n",
      "              88           \n",
      "\n",
      "**********************************************************************\n",
      "Type 'encode' to encrypt, type 'decode' to decrypt: encode\n",
      "Type your message: I was born in the 7th month of the year.\n",
      "Type the shift number: 87\n",
      "\n",
      "Here's the encoded result: r fjb kxaw rw cqn 7cq vxwcq xo cqn hnja.\n",
      "**********************************************************************\n",
      "\n",
      "Do you want to encode or decode again? (yes or no): yes\n",
      "\n",
      "Type 'encode' to encrypt, type 'decode' to decrypt: decode\n",
      "Type your message: r fjb kxaw rw cqn 7cq vxwcq xo cqn hnja.\n",
      "Type the shift number: 87\n",
      "\n",
      "Here's the decoded result: i was born in the 7th month of the year.\n",
      "**********************************************************************\n",
      "\n",
      "Do you want to encode or decode again? (yes or no): no\n",
      "\n"
     ]
    }
   ],
   "source": [
    "import art\n",
    "\n",
    "# print ascii art\n",
    "print(art.logo)\n",
    "print(\"*\"*70)\n",
    "\n",
    "alphabet = ['a', 'b', 'c', 'd', 'e', 'f', 'g', 'h', 'i', 'j', 'k', 'l', 'm', 'n', 'o', 'p', 'q', 'r', 's', 't', 'u', 'v', 'w', 'x', 'y', 'z', 'a', 'b', 'c', 'd', 'e', 'f', 'g', 'h', 'i', 'j', 'k', 'l', 'm', 'n', 'o', 'p', 'q', 'r', 's', 't', 'u', 'v', 'w', 'x', 'y', 'z']\n",
    "\n",
    "# define the ceaser function\n",
    "def caesar(start_text, shift_amount, cipher_direction):\n",
    "    end_text = \"\"\n",
    "    \n",
    "    if cipher_direction == \"decode\":\n",
    "        shift_amount *= -1\n",
    "        \n",
    "    for char in start_text:     \n",
    "        # check and retain other types of characters that is not an alphabet\n",
    "        if char not in alphabet:\n",
    "            end_text += char\n",
    "            \n",
    "        # encode or decode letters\n",
    "        else:      \n",
    "            position = alphabet.index(char)\n",
    "            new_position = position + shift_amount\n",
    "            end_text += alphabet[new_position]\n",
    "    \n",
    "    print(f\"\\nHere's the {cipher_direction}d result: {end_text}\")\n",
    "\n",
    "user_choice = \"yes\"\n",
    "\n",
    "while user_choice == 'yes':\n",
    "    direction = input(\"Type 'encode' to encrypt, type 'decode' to decrypt: \")\n",
    "    text = input(\"Type your message: \").lower()\n",
    "    shift = int(input(\"Type the shift number: \"))\n",
    "\n",
    "    # check if the shift number is greater that 26\n",
    "    if shift > 26:\n",
    "        shift %= 26\n",
    "    \n",
    "    # call the ceaser function\n",
    "    caesar(start_text=text, shift_amount=shift, cipher_direction=direction)\n",
    "    print(\"*\"*70)\n",
    "    print()\n",
    "    \n",
    "    # ask if user wants to go again\n",
    "    user_choice = input(\"Do you want to encode or decode again? (yes or no): \").lower()\n",
    "    print()"
   ]
  }
 ],
 "metadata": {
  "kernelspec": {
   "display_name": "Python 3 (ipykernel)",
   "language": "python",
   "name": "python3"
  },
  "language_info": {
   "codemirror_mode": {
    "name": "ipython",
    "version": 3
   },
   "file_extension": ".py",
   "mimetype": "text/x-python",
   "name": "python",
   "nbconvert_exporter": "python",
   "pygments_lexer": "ipython3",
   "version": "3.9.13"
  }
 },
 "nbformat": 4,
 "nbformat_minor": 5
}
