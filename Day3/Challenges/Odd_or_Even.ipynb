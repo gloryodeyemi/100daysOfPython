{
 "cells": [
  {
   "cell_type": "markdown",
   "id": "c6038050",
   "metadata": {},
   "source": [
    "## Challenge: Odd or Even\n",
    "\n",
    "### Instructions\n",
    "Write a program that works out whether if a given number is an odd or even number.\n",
    "\n",
    "Even numbers can be divided by 2 with no remainder.\n",
    "\n",
    "e.g. 86 is even because 86 ÷ 2 = 43\n",
    "\n",
    "43 does not have any decimal places. Therefore the division is clean.\n",
    "\n",
    "e.g. 59 is odd because 59 ÷ 2 = 29.5\n",
    "\n",
    "29.5 is not a whole number, it has decimal places. Therefore there is a remainder of 0.5, so the division is not clean.\n",
    "\n",
    "The modulo is written as a percentage sign (%) in Python. It gives you the remainder after a division.\n",
    "\n",
    "e.g.\n",
    "\n",
    "```6 ÷ 2 = 3``` with no remainder.\n",
    "\n",
    "therefore: ```6 % 2 = 0```\n",
    "\n",
    "5 ÷ 2 = 2 x 2 + 1, remainder is 1.\n",
    "\n",
    "therefore: ```5 % 2 = 1```\n",
    "\n",
    "14 ÷ 4 = 3 x 4 + 2, remainder is 2.\n",
    "\n",
    "therefore: ```14 % 4 = 2```\n",
    "\n",
    "**Warning:** your output should match the Example Output format exactly, even the positions of the commas and full stops."
   ]
  },
  {
   "cell_type": "code",
   "execution_count": 1,
   "id": "b46601dc",
   "metadata": {},
   "outputs": [
    {
     "name": "stdout",
     "output_type": "stream",
     "text": [
      "Which number do you want to check? 88\n",
      "This is an even number.\n"
     ]
    }
   ],
   "source": [
    "# 🚨 Don't change the code below 👇\n",
    "number = int(input(\"Which number do you want to check? \"))\n",
    "# 🚨 Don't change the code above 👆\n",
    "\n",
    "#Write your code below this line 👇\n",
    "if number % 2 == 0:\n",
    "    print(\"This is an even number.\")\n",
    "else:\n",
    "    print(\"This is an odd number.\")"
   ]
  }
 ],
 "metadata": {
  "kernelspec": {
   "display_name": "Python 3 (ipykernel)",
   "language": "python",
   "name": "python3"
  },
  "language_info": {
   "codemirror_mode": {
    "name": "ipython",
    "version": 3
   },
   "file_extension": ".py",
   "mimetype": "text/x-python",
   "name": "python",
   "nbconvert_exporter": "python",
   "pygments_lexer": "ipython3",
   "version": "3.9.13"
  }
 },
 "nbformat": 4,
 "nbformat_minor": 5
}
