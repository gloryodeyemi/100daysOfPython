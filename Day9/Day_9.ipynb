{
 "cells": [
  {
   "cell_type": "markdown",
   "id": "5607a3ce",
   "metadata": {},
   "source": [
    "## Day 9 - Beginner - Dictionaries, Nesting and the Secret Auction"
   ]
  },
  {
   "cell_type": "code",
   "execution_count": 1,
   "id": "21669cfa",
   "metadata": {},
   "outputs": [
    {
     "name": "stdout",
     "output_type": "stream",
     "text": [
      "An error in a program that prevents the program from running as expected.\n",
      "\n",
      "{'Bug': 'An error in a program that prevents the program from running as expected.', 'Function': 'A piece of code that you can easily call over and over again.', 'Loop': 'The action of doing something over and over again.'}\n",
      "\n",
      "{'Bug': 'A moth in your computer.', 'Function': 'A piece of code that you can easily call over and over again.', 'Loop': 'The action of doing something over and over again.'}\n",
      "\n",
      "Bug: A moth in your computer.\n",
      "Function: A piece of code that you can easily call over and over again.\n",
      "Loop: The action of doing something over and over again.\n",
      "\n"
     ]
    }
   ],
   "source": [
    "# Dictionary\n",
    "programming_dictionary = {\n",
    "    \"Bug\": \"An error in a program that prevents the program from running as expected.\", \n",
    "    \"Function\": \"A piece of code that you can easily call over and over again.\",\n",
    "}\n",
    "\n",
    "# Retrieving items from dictionary\n",
    "print(programming_dictionary[\"Bug\"])\n",
    "print()\n",
    "\n",
    "# Adding new items to dictionary\n",
    "programming_dictionary[\"Loop\"] = \"The action of doing something over and over again.\"\n",
    "print(programming_dictionary)\n",
    "print()\n",
    "\n",
    "# Create an empty dictionary\n",
    "empty_dictionary = {}\n",
    "\n",
    "# Wipe an existing dictionary\n",
    "# programming_dictionary = {}\n",
    "# print(programming_dictionary)\n",
    "\n",
    "# Edit an item in a dictionary\n",
    "programming_dictionary[\"Bug\"] = \"A moth in your computer.\"\n",
    "print(programming_dictionary)\n",
    "print()\n",
    "\n",
    "# Loop through a dictionary\n",
    "for key in programming_dictionary:\n",
    "    print(f\"{key}: {programming_dictionary[key]}\")\n",
    "print()"
   ]
  }
 ],
 "metadata": {
  "kernelspec": {
   "display_name": "Python 3 (ipykernel)",
   "language": "python",
   "name": "python3"
  },
  "language_info": {
   "codemirror_mode": {
    "name": "ipython",
    "version": 3
   },
   "file_extension": ".py",
   "mimetype": "text/x-python",
   "name": "python",
   "nbconvert_exporter": "python",
   "pygments_lexer": "ipython3",
   "version": "3.9.13"
  }
 },
 "nbformat": 4,
 "nbformat_minor": 5
}
