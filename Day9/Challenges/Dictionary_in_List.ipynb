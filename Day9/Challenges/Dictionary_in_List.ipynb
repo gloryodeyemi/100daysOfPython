{
 "cells": [
  {
   "cell_type": "markdown",
   "id": "9a2da3ff",
   "metadata": {},
   "source": [
    "## Challenge: Dictionary in List\n",
    "\n",
    "### Instructions\n",
    "You are going to write a program that adds to a ```travel_log```. You can see a travel_log which is a **List** that contains 2 **Dictionaries**.\n",
    "\n",
    "Write a function that will work with the following line of code on line 21 to add the entry for Russia to the ```travel_log```.\n",
    "\n",
    "```add_new_country(\"Russia\", 2, [\"Moscow\", \"Saint Petersburg\"])```\n",
    "    \n",
    "    You've visited Russia 2 times.\n",
    "\n",
    "    You've been to Moscow and Saint Petersburg.\n",
    "\n",
    "**DO NOT** modify the ```travel_log``` directly. You need to create a function that modifies it."
   ]
  },
  {
   "cell_type": "code",
   "execution_count": 1,
   "id": "87a8cc18",
   "metadata": {},
   "outputs": [
    {
     "name": "stdout",
     "output_type": "stream",
     "text": [
      "[{'country': 'France', 'visits': 12, 'cities': ['Paris', 'Lille', 'Dijon']}, {'country': 'Germany', 'visits': 5, 'cities': ['Berlin', 'Hamburg', 'Stuttgart']}, {'country': 'Russia', 'visits': 2, 'cities': ['Moscow', 'Saint Petersburg']}]\n"
     ]
    }
   ],
   "source": [
    "travel_log = [\n",
    "{\n",
    "  \"country\": \"France\",\n",
    "  \"visits\": 12,\n",
    "  \"cities\": [\"Paris\", \"Lille\", \"Dijon\"]\n",
    "},\n",
    "{\n",
    "  \"country\": \"Germany\",\n",
    "  \"visits\": 5,\n",
    "  \"cities\": [\"Berlin\", \"Hamburg\", \"Stuttgart\"]\n",
    "},\n",
    "]\n",
    "#🚨 Do NOT change the code above\n",
    "\n",
    "#TODO: Write the function that will allow new countries\n",
    "#to be added to the travel_log. 👇\n",
    "def add_new_country(country, number_of_visit, cities):\n",
    "    new_dict = {\n",
    "        \"country\": country,\n",
    "        \"visits\": number_of_visit,\n",
    "        \"cities\": cities\n",
    "    }\n",
    "    travel_log.append(new_dict)\n",
    "\n",
    "#🚨 Do not change the code below\n",
    "add_new_country(\"Russia\", 2, [\"Moscow\", \"Saint Petersburg\"])\n",
    "print(travel_log)"
   ]
  }
 ],
 "metadata": {
  "kernelspec": {
   "display_name": "Python 3 (ipykernel)",
   "language": "python",
   "name": "python3"
  },
  "language_info": {
   "codemirror_mode": {
    "name": "ipython",
    "version": 3
   },
   "file_extension": ".py",
   "mimetype": "text/x-python",
   "name": "python",
   "nbconvert_exporter": "python",
   "pygments_lexer": "ipython3",
   "version": "3.9.13"
  }
 },
 "nbformat": 4,
 "nbformat_minor": 5
}
