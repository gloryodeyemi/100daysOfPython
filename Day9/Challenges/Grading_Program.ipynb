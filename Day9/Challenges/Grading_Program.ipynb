{
 "cells": [
  {
   "cell_type": "markdown",
   "id": "9a2da3ff",
   "metadata": {},
   "source": [
    "## Challenge: Grading Program\n",
    "\n",
    "### Instructions\n",
    "You have access to a database of ```student_scores``` in the format of a dictionary. The keys in ```student_scores``` are the names of the students and the values are their exam scores.\n",
    "\n",
    "Write a program that converts their scores to grades. By the end of your program, you should have a new dictionary called ```student_grades``` that should contain student names for keys and their grades for values. The final version of the ```student_grades``` dictionary will be checked.\n",
    "\n",
    "**DO NOT** modify lines 1-7 to change the existing ```student_scores``` dictionary.\n",
    "\n",
    "**DO NOT** write any print statements.\n",
    "\n",
    "This is the scoring criteria:\n",
    "\n",
    "    Scores 91 - 100: Grade = \"Outstanding\"\n",
    "\n",
    "    Scores 81 - 90: Grade = \"Exceeds Expectations\"\n",
    "\n",
    "    Scores 71 - 80: Grade = \"Acceptable\"\n",
    "\n",
    "    Scores 70 or lower: Grade = \"Fail\"\n",
    "\n",
    "### Expected Output\n",
    "```'{'Harry': 'Exceeds Expectations', 'Ron': 'Acceptable', 'Hermione': 'Outstanding', 'Draco': 'Acceptable', 'Neville': 'Fail'}'```"
   ]
  },
  {
   "cell_type": "code",
   "execution_count": 1,
   "id": "87a8cc18",
   "metadata": {},
   "outputs": [
    {
     "name": "stdout",
     "output_type": "stream",
     "text": [
      "{'Harry': 'Exceeds Expectations', 'Ron': 'Acceptable', 'Hermione': 'Outstanding', 'Draco': 'Acceptable', 'Neville': 'Fail'}\n"
     ]
    }
   ],
   "source": [
    "student_scores = {\n",
    "  \"Harry\": 81,\n",
    "  \"Ron\": 78,\n",
    "  \"Hermione\": 99, \n",
    "  \"Draco\": 74,\n",
    "  \"Neville\": 62,\n",
    "}\n",
    "# 🚨 Don't change the code above 👆\n",
    "\n",
    "#TODO-1: Create an empty dictionary called student_grades.\n",
    "student_grades = {}\n",
    "\n",
    "#TODO-2: Write your code below to add the grades to student_grades.👇\n",
    "for key in student_scores:\n",
    "    if student_scores[key] >= 91:\n",
    "        student_grades[key] = \"Outstanding\"\n",
    "    elif student_scores[key] >= 81:\n",
    "        student_grades[key] = \"Exceeds Expectations\"\n",
    "    elif student_scores[key] >= 71:\n",
    "        student_grades[key] = \"Acceptable\"\n",
    "    else:\n",
    "        student_grades[key] = \"Fail\"      \n",
    "\n",
    "# 🚨 Don't change the code below 👇\n",
    "print(student_grades)"
   ]
  }
 ],
 "metadata": {
  "kernelspec": {
   "display_name": "Python 3 (ipykernel)",
   "language": "python",
   "name": "python3"
  },
  "language_info": {
   "codemirror_mode": {
    "name": "ipython",
    "version": 3
   },
   "file_extension": ".py",
   "mimetype": "text/x-python",
   "name": "python",
   "nbconvert_exporter": "python",
   "pygments_lexer": "ipython3",
   "version": "3.9.13"
  }
 },
 "nbformat": 4,
 "nbformat_minor": 5
}
