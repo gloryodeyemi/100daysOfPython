{
 "cells": [
  {
   "cell_type": "markdown",
   "id": "4894a1fd",
   "metadata": {},
   "source": [
    "## Day 9 Project - Secret Auction"
   ]
  },
  {
   "cell_type": "code",
   "execution_count": 3,
   "id": "8e91a6e6",
   "metadata": {},
   "outputs": [
    {
     "name": "stdout",
     "output_type": "stream",
     "text": [
      "\n",
      "                         ___________\n",
      "                         \\         /\n",
      "                          )_______(\n",
      "                          |\"\"\"\"\"\"\"|_.-._,.---------.,_.-._\n",
      "                          |       | | |               | | ''-.\n",
      "                          |       |_| |_             _| |_..-'\n",
      "                          |_______| '-' `'---------'` '-'\n",
      "                          )\"\"\"\"\"\"\"(\n",
      "                         /_________\\\n",
      "                       .-------------.\n",
      "                      /_______________\\\n",
      "\n",
      "*****************\n",
      "Secret Auction!!!\n",
      "*****************\n",
      "Congratulations, Glory!!!\n",
      "You have the highest bid of $1000.\n"
     ]
    }
   ],
   "source": [
    "# import neeeded libraries\n",
    "from IPython.display import clear_output\n",
    "import art\n",
    "\n",
    "# define logo function\n",
    "def print_logo():\n",
    "    print(art.logo)\n",
    "    app_name = \"Secret Auction!!!\"\n",
    "    print(\"*\"*len(app_name))\n",
    "    print(app_name)\n",
    "    print(\"*\"*len(app_name))\n",
    "\n",
    "# define function to find the highest bidder\n",
    "def find_highest_bidder(bid_dictionary):\n",
    "    highest_bid = 0\n",
    "    highest_bidder = \"\"\n",
    "    for user in bid_dictionary:\n",
    "        if bid_dictionary[user] > highest_bid:\n",
    "            highest_bid = bid_dictionary[user]\n",
    "            highest_bidder = user\n",
    "\n",
    "    print(f\"Congratulations, {highest_bidder}!!!\\nYou have the highest bid of ${highest_bid}.\")\n",
    "\n",
    "bid_dictionary = {}\n",
    "avail_bidders = \"yes\"\n",
    "print_logo()\n",
    "\n",
    "while avail_bidders == \"yes\":\n",
    "    # ask for bid information\n",
    "    name = input(\"Enter your name: \")\n",
    "    bid_price = input(\"Enter the amount you want to bid: $\")\n",
    "\n",
    "    bid_dictionary[name] = int(bid_price)\n",
    "    \n",
    "    print()\n",
    "    avail_bidders = input(\"Are there other available bidders? (yes or no): \").lower()\n",
    "    clear_output(wait=False) # clear the console\n",
    "\n",
    "# call the functions\n",
    "print_logo()\n",
    "find_highest_bidder(bid_dictionary)"
   ]
  }
 ],
 "metadata": {
  "kernelspec": {
   "display_name": "Python 3 (ipykernel)",
   "language": "python",
   "name": "python3"
  },
  "language_info": {
   "codemirror_mode": {
    "name": "ipython",
    "version": 3
   },
   "file_extension": ".py",
   "mimetype": "text/x-python",
   "name": "python",
   "nbconvert_exporter": "python",
   "pygments_lexer": "ipython3",
   "version": "3.9.13"
  }
 },
 "nbformat": 4,
 "nbformat_minor": 5
}
