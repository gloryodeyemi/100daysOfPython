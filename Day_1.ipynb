{
 "cells": [
  {
   "cell_type": "markdown",
   "id": "073c456a",
   "metadata": {},
   "source": [
    "## Day 1 - Beginner - Working with variables in Python to manage data."
   ]
  },
  {
   "cell_type": "code",
   "execution_count": 1,
   "id": "ba2702e2",
   "metadata": {},
   "outputs": [
    {
     "name": "stdout",
     "output_type": "stream",
     "text": [
      "Hello world!\n"
     ]
    }
   ],
   "source": [
    "print(\"Hello world!\")"
   ]
  },
  {
   "cell_type": "code",
   "execution_count": 2,
   "id": "04e8c1c1",
   "metadata": {},
   "outputs": [
    {
     "name": "stdout",
     "output_type": "stream",
     "text": [
      "Hello world!\n",
      "Hello World!\n",
      "Hello world!\n",
      "Hello Glory\n"
     ]
    }
   ],
   "source": [
    "# String manipulation\n",
    "print(\"Hello world!\\nHello World!\\nHello world!\") # new line\n",
    "print(\"Hello\" +\" \"+ \"Glory\") # concatenation"
   ]
  },
  {
   "cell_type": "code",
   "execution_count": 3,
   "id": "8836ac60",
   "metadata": {},
   "outputs": [
    {
     "name": "stdout",
     "output_type": "stream",
     "text": [
      "What is your name? Glory\n",
      "Hello Glory\n"
     ]
    }
   ],
   "source": [
    "# Input function\n",
    "print(\"Hello \" + input(\"What is your name? \"))"
   ]
  },
  {
   "cell_type": "code",
   "execution_count": 4,
   "id": "d734a6bd",
   "metadata": {},
   "outputs": [
    {
     "name": "stdout",
     "output_type": "stream",
     "text": [
      "What is your name? Glory\n",
      "Glory\n"
     ]
    }
   ],
   "source": [
    "# Variables\n",
    "name  = input(\"What is your name? \")\n",
    "print(name)"
   ]
  }
 ],
 "metadata": {
  "kernelspec": {
   "display_name": "Python 3 (ipykernel)",
   "language": "python",
   "name": "python3"
  },
  "language_info": {
   "codemirror_mode": {
    "name": "ipython",
    "version": 3
   },
   "file_extension": ".py",
   "mimetype": "text/x-python",
   "name": "python",
   "nbconvert_exporter": "python",
   "pygments_lexer": "ipython3",
   "version": "3.9.13"
  }
 },
 "nbformat": 4,
 "nbformat_minor": 5
}
